{
 "cells": [
  {
   "cell_type": "code",
   "execution_count": 1,
   "metadata": {},
   "outputs": [],
   "source": [
    "import re\n",
    "accessions = ['xkn59438', 'yhdck2', 'eihd39d9', 'chdsye847', 'hedle3455', 'xjhd53e', '45da', 'de37dp']"
   ]
  },
  {
   "cell_type": "code",
   "execution_count": 2,
   "metadata": {},
   "outputs": [],
   "source": [
    "OPT = 1 #Option settings!\n",
    "# print acessions that:\n",
    "# OPT =\n",
    "# [1]'''contain the number 5'''\n",
    "# [2]'''contain the letter d or e'''\n",
    "# [3]'''contain the letters d and e in that order'''\n",
    "# [4]'''contain the letters d and e in that order with a single letter between them'''\n",
    "# [5]'''contain both the letters d and e in any order'''\n",
    "# [6]'''start with x or y'''\n",
    "# [7]'''start with x or y and end with e'''\n",
    "# [8]'''contain three or more digits in a row'''\n",
    "# [9]'''end with d followed by either a, r or p'''"
   ]
  },
  {
   "cell_type": "code",
   "execution_count": 3,
   "metadata": {},
   "outputs": [
    {
     "name": "stdout",
     "output_type": "stream",
     "text": [
      "xkn59438\n",
      "hedle3455\n",
      "xjhd53e\n",
      "45da\n"
     ]
    }
   ],
   "source": [
    "res =[]\n",
    "for elem in accessions:\n",
    "    if OPT == 1:\n",
    "        m = re.search(\"5\",elem)\n",
    "    elif OPT == 2:\n",
    "        m = re.search(\"[de]\", elem)\n",
    "    elif OPT == 3:\n",
    "        m = re.search(\"d.*e\", elem)\n",
    "    elif OPT == 4:\n",
    "        m = re.search(\"d[a-z]e\", elem)\n",
    "    elif OPT == 5:\n",
    "        m = re.search(\"d.*e|e.*d\", elem)\n",
    "    elif OPT == 6:\n",
    "        m = re.search(\"^[xy]\", elem)\n",
    "    elif OPT == 7:\n",
    "        m = re.search(\"^[xy].*e$\", elem)\n",
    "    elif OPT == 8:\n",
    "        m = re.search(\"(\\d{3,})\", elem)\n",
    "    elif OPT == 9:\n",
    "        m = re.search(\"d[arp]$\", elem)\n",
    "    if m:\n",
    "        res.append(elem)\n",
    "for acs in res:\n",
    "    print(acs)\n",
    "#print(res) #prints a list containing the acession in condition instead"
   ]
  },
  {
   "cell_type": "code",
   "execution_count": null,
   "metadata": {},
   "outputs": [],
   "source": []
  }
 ],
 "metadata": {
  "kernelspec": {
   "display_name": "Python 3",
   "language": "python",
   "name": "python3"
  },
  "language_info": {
   "codemirror_mode": {
    "name": "ipython",
    "version": 3
   },
   "file_extension": ".py",
   "mimetype": "text/x-python",
   "name": "python",
   "nbconvert_exporter": "python",
   "pygments_lexer": "ipython3",
   "version": "3.8.5"
  }
 },
 "nbformat": 4,
 "nbformat_minor": 4
}
