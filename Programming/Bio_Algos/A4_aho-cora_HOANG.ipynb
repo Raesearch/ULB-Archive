{
 "cells": [
  {
   "cell_type": "markdown",
   "metadata": {},
   "source": [
    "# INFO-F-438 - Algorithms in computational biology - 2021\n",
    "\n",
    "## Assignment 4: Implementing efficient string matching\n",
    "\n",
    "### Name: Hoang Hai Nam\n",
    "### M. No.: 443146\n",
    "\n",
    "Python version used and tested : 3.8\n",
    "\n",
    "Imported libraries: timeit, pyplot, os, sys, guppy3\n",
    "\n",
    "Note: None of these libraries are required to run validation codes. They're for graphs and performance analysis"
   ]
  },
  {
   "cell_type": "markdown",
   "metadata": {},
   "source": [
    "Code to mute prints were taken from here: https://stackoverflow.com/questions/8391411/how-to-block-calls-to-print\n",
    "Code to track memory usage were consulted at: https://web.archive.org/web/20180807190820/http://pkgcore.readthedocs.io/en/latest/dev-notes/heapy.html"
   ]
  },
  {
   "cell_type": "markdown",
   "metadata": {},
   "source": [
    "# 1. Imports (not needed unless you're planning to run the performance analysis codes yourself)"
   ]
  },
  {
   "cell_type": "code",
   "execution_count": 35,
   "metadata": {},
   "outputs": [],
   "source": [
    "import timeit\n",
    "import matplotlib.pyplot as plt\n",
    "import os, sys\n",
    "from guppy import hpy\n",
    "\n",
    "class HiddenPrints:\n",
    "    def __enter__(self):\n",
    "        self._original_stdout = sys.stdout\n",
    "        sys.stdout = open(os.devnull, 'w')\n",
    "\n",
    "    def __exit__(self, exc_type, exc_val, exc_tb):\n",
    "        sys.stdout.close()\n",
    "        sys.stdout = self._original_stdout"
   ]
  },
  {
   "cell_type": "markdown",
   "metadata": {},
   "source": [
    "# 2. Functions"
   ]
  },
  {
   "cell_type": "code",
   "execution_count": 36,
   "metadata": {},
   "outputs": [],
   "source": [
    "def enter(a, g, output, newstate):\n",
    "    \"\"\"Inputs: word, goto function, output function, newstate\n",
    "    Output: goto function, output function and newstate\n",
    "    Inserts into the goto graph a path that spells out the word (a)\"\"\"\n",
    "    state = 0\n",
    "    # in the paper's pseudocode they set j = 1. THIS IS AN INDEX DECLEARATION\n",
    "    # would assume that their indexes start at 1, python's indices however start at 0\n",
    "    # todo: take notice whenever there's an index being declared as 1 in the paper\n",
    "    j = 0\n",
    "    # while g(state, a) != fail\n",
    "    while (state, a[j]) in g:\n",
    "        state = g[(state, a[j])]\n",
    "        j += 1\n",
    "    # for p <- j until m(last index of a)\n",
    "    for p in range(j, len(a)):\n",
    "        newstate += 1\n",
    "        g[(state, a[p])] = newstate\n",
    "        state = newstate\n",
    "    # initialising state for output\n",
    "    if state not in output:\n",
    "        output[state] = []\n",
    "    # add word to state of output\n",
    "    # todo important! cannot use extend here, breaks(merge) overlapping keywords\n",
    "    output[state].append(a)\n",
    "    return g, output, newstate\n",
    "\n",
    "\n",
    "def gbuilder(k):\n",
    "    \"\"\"Inputs: a set of keywords {}\n",
    "    Outputs: the goto function, partially computed output function, pool of letters of the keys\n",
    "    builds a goto function and partially builds the output function\"\"\"\n",
    "    newstate = 0\n",
    "    # pool of all letters of keywords, we can check check every possible letter in the last loop\n",
    "    lpool = []\n",
    "    # initiation of goto function, dictionary with a tuple as key\n",
    "    g = dict()\n",
    "    # initiation of output function dictionary with\n",
    "    output = dict()\n",
    "    # first loop\n",
    "    # loops through all keywords in k\n",
    "    for word in k:\n",
    "        # loops through letters within word to build letter pool\n",
    "        for letter in word:\n",
    "            if letter not in lpool:\n",
    "                lpool.append(letter)\n",
    "        # applying enter() to every word\n",
    "        g, output, newstate = enter(word, g, output, newstate)\n",
    "    # second loop\n",
    "    for a in lpool:\n",
    "        # synnonym for g(0, a) == fail\n",
    "        if (0, a) not in g:\n",
    "            g[(0, a)] = 0\n",
    "    return g, output, lpool\n",
    "\n",
    "\n",
    "def fbuilder(g, output, lpool):\n",
    "    \"\"\"Inputs: goto function, partial output function, letters pool\n",
    "    Outputs: The failure function and the complete output function\"\"\"\n",
    "    # queue initialisation, empty as described by pseudocode\n",
    "    queue = []\n",
    "    f = {}\n",
    "    # for g(0, a) != fail and = s\n",
    "    for a in lpool:\n",
    "        # and != 0\n",
    "        if g[(0, a)] != 0:\n",
    "            queue.append(g[(0, a)])\n",
    "            f[g[(0, a)]] = 0\n",
    "    while queue:\n",
    "        # destroys index 0 and apply it to r\n",
    "        r = queue.pop(0)\n",
    "        # for each a such that g(r,a) = s != fail\n",
    "        for a in lpool:\n",
    "            if (r, a) in g:\n",
    "                s = g[(r, a)]\n",
    "                queue.append(s)\n",
    "                state = f[r]\n",
    "                # while g(state,a) = fail, do state = f(state)\n",
    "                while (state, a) not in g:\n",
    "                    state = f[state]\n",
    "                f[s] = g[(state, a)]\n",
    "                if s not in output:\n",
    "                    output[s] = []\n",
    "                # here these 2 ifs are seperated because if s is not in f and we request f[s]\n",
    "                # right away we'll get an index out of range error todo find a neater way ?\n",
    "                if s in f:\n",
    "                    # finding intersection between output(s) and output(fs)\n",
    "                    if f[s] in output:\n",
    "                        output[s].extend(output[f[s]])\n",
    "    return f, output\n",
    "\n",
    "\n",
    "def deltabuilder(g, f, lpool):\n",
    "    \"\"\"inputs: goto function g, failure function f, letter pool lpool\n",
    "    outputs: delta function, deterministic finite automaton\n",
    "    essentially merges g and f into one function, saves on performance\n",
    "    by eliminating failure state transition in the pattern matching machine\"\"\"\n",
    "    queue = []\n",
    "    delta = dict()\n",
    "    # loops through all the letters\n",
    "    for a in lpool:\n",
    "        # applying null state of goto to delta\n",
    "        delta[(0, a)] = g[(0, a)]\n",
    "        if g[(0, a)] != 0:\n",
    "            queue.append(g[(0, a)])\n",
    "    while queue:\n",
    "        # destroys first queue element and apply it to r\n",
    "        r = queue.pop(0)\n",
    "        # for each a such that g(r,a) = s != fail\n",
    "        # loops through all letters a\n",
    "        for a in lpool:\n",
    "            # if s=(g(r,a)) != fail\n",
    "            if (r, a) in g:\n",
    "                s = g[(r, a)]\n",
    "                queue.append(s)\n",
    "                delta[(r, a)] = s\n",
    "            else:\n",
    "                delta[(r, a)] = delta[(f[r], a)]\n",
    "    return delta\n",
    "\n",
    "\n",
    "def buildprofile(kw, delta=False):\n",
    "    \"\"\"Inputs: list of keywords, delta\n",
    "    Outputs: delta, output functions, lpool if delta\n",
    "    or goto, failure, output functions and lpool\"\"\"\n",
    "    goto = gbuilder(kw)\n",
    "    failure = fbuilder(goto[0], goto[1], goto[2])\n",
    "    # goto == goto[0]\n",
    "    # failure == failure[0]\n",
    "    # output == failure[1]\n",
    "    # lpool == goto[2]\n",
    "    if delta:\n",
    "        # return (delta, output, lpool)\n",
    "        return deltabuilder(goto[0], failure[0], goto[2]), failure[1], goto[2]\n",
    "    else:\n",
    "        # return (goto, failure, output, lpool)\n",
    "        return goto[0], failure[0], failure[1], goto[2]\n",
    "\n",
    "\n",
    "def patternmatcher(txt, g, f, output, lpool, verbose=True):\n",
    "    \"\"\"inputs: target text string, goto and failure function constructed from keywords,\n",
    "    pool of letters of keywords.\n",
    "    outputs: None, function executes prints if verbose=T\n",
    "    else: Dictionary of keywords and their positions within the txt as a list\"\"\"\n",
    "    state = 0\n",
    "    # initiating dictionary of keywords and their positions stored as list\n",
    "    apps = dict()\n",
    "    # loops through all LETTERS withing a string\n",
    "    for i in range(len(txt)):\n",
    "        if txt[i] in lpool:\n",
    "            # consulting failure function for fail states within g\n",
    "            while (state, txt[i]) not in g:\n",
    "                state = f[state]\n",
    "            state = g[(state, txt[i])]\n",
    "            if state in output:\n",
    "                if output[state]:\n",
    "                    # deciding between verbose or not is here\n",
    "                    if verbose:\n",
    "                        for kw in output[state]:\n",
    "                            # right now it is calibrated for indices that start at 1 and\n",
    "                            # unlike python's indices which start at 0\n",
    "                            print(\"Pattern\", \"{\" + kw + \"}\", \"found at position\", i - len(kw) + 2)\n",
    "                    else:\n",
    "                        for kw in output[state]:\n",
    "                            if kw not in apps:\n",
    "                                apps[kw] = []\n",
    "                            # appending positions to apps\n",
    "                            apps[kw].append(i - len(kw) + 2)\n",
    "    if not verbose:\n",
    "        return apps\n",
    "\n",
    "\n",
    "def deltamatcher(txt, delta, output, lpool, verbose=True):\n",
    "    \"\"\"inputs: target text string, delta function constructed from goto and failure functions,\n",
    "    pool of letters of keywords.\n",
    "    outputs: None, function executes prints, if verbose=T\n",
    "    else: ictionary of keywords and their positions within the txt\n",
    "    Alternate version of pattern matcher that uses delta instead of goto and failure\"\"\"\n",
    "    state = 0\n",
    "    apps = dict()\n",
    "    for i in range(len(txt)):\n",
    "        if txt[i] in lpool:\n",
    "            # here the while loop of possible multiple failure state transition is replace by delta\n",
    "            state = delta[(state, txt[i])]\n",
    "            if state in output:\n",
    "                if output[state]:\n",
    "                    if verbose:\n",
    "                        for kw in output[state]:\n",
    "                            # right now it is calibrated for indices that start at 1 and\n",
    "                            # unlike python's indices which start at 0\n",
    "                            print(\"Pattern\", \"{\" + kw + \"}\", \"found at position\", i - len(kw) + 2)\n",
    "                    else:\n",
    "                        for kw in output[state]:\n",
    "                            if kw not in apps:\n",
    "                                apps[kw] = []\n",
    "                            apps[kw].append(i - len(kw) + 2)\n",
    "    if not verbose:\n",
    "        return apps\n",
    "\n",
    "\n",
    "def patternhelper(keywords, textstring, delta=False, verbose=True):\n",
    "    \"\"\"inputs: keywords, target textstrings, and delta[BOOL]\n",
    "    outputs: None\"\"\"\n",
    "    # verbose case\n",
    "    if verbose:\n",
    "        # delta case\n",
    "        if delta:\n",
    "            dee, ohh, pool = buildprofile(keywords, delta)\n",
    "            deltamatcher(textstring, dee, ohh, pool)\n",
    "        # default case, verbose = True, delta = False\n",
    "        else:\n",
    "            gee, eff, ohh, pool = buildprofile(keywords, delta)\n",
    "            patternmatcher(textstring, gee, eff, ohh, pool)\n",
    "    else:\n",
    "        if delta:\n",
    "            dee, ohh, pool = buildprofile(keywords, delta)\n",
    "            res = deltamatcher(textstring, dee, ohh, pool, verbose=False)\n",
    "        else:\n",
    "            gee, eff, ohh, pool = buildprofile(keywords, delta)\n",
    "            res = patternmatcher(textstring, gee, eff, ohh, pool, verbose=False)\n",
    "        # non verbose, compact case\n",
    "        for kw in res:\n",
    "            print(\"Pattern\", \"{\" + kw + \"}\", \"was found\", len(res[kw]), \"times, at positions\", res[kw])\n",
    "\n",
    "\n",
    "def paragrapher(keywords, paralist, delta=False, verbose=True):\n",
    "    \"\"\"inputs: keywords, target textstrings, and delta[BOOL]\n",
    "        outputs: None\"\"\"\n",
    "    # default conditions, verbose=T\n",
    "    if verbose:\n",
    "        if delta:\n",
    "            dee, ohh, pool = buildprofile(keywords, delta)\n",
    "            for i in range(len(paralist)):\n",
    "                print(\"--------------------\")\n",
    "                print(\"Within Paragraph\", i + 1, \":\")\n",
    "                print(\"--------------------\")\n",
    "                # putting line into pattern matcher, prints as the machine goes through letter by letter\n",
    "                deltamatcher(paralist[i], dee, ohh, pool)\n",
    "        else:\n",
    "            gee, eff, ohh, pool = buildprofile(keywords, delta)\n",
    "            # loops through each line\n",
    "            for i in range(len(paralist)):\n",
    "                print(\"--------------------\")\n",
    "                print(\"Within Paragraph\", i + 1, \":\")\n",
    "                print(\"--------------------\")\n",
    "                patternmatcher(paralist[i], gee, eff, ohh, pool)\n",
    "    # alt condition, verbose=False\n",
    "    else:\n",
    "        if delta:\n",
    "            dee, ohh, pool = buildprofile(keywords, delta)\n",
    "            # loops line by line in text, or element within a list\n",
    "            for i in range(len(paralist)):\n",
    "                print(\"--------------------\")\n",
    "                print(\"Within Paragraph\", i + 1, \":\")\n",
    "                print(\"--------------------\")\n",
    "                res = deltamatcher(paralist[i], dee, ohh, pool, verbose=False)\n",
    "                for kw in res:\n",
    "                    print(\"Pattern\", \"{\" + kw + \"}\", \"was found\", len(res[kw]), \"times, at positions\", res[kw])\n",
    "        else:\n",
    "            gee, eff, ohh, pool = buildprofile(keywords, delta)\n",
    "            for i in range(len(paralist)):\n",
    "                print(\"--------------------\")\n",
    "                print(\"Within Paragraph\", i + 1, \":\")\n",
    "                print(\"--------------------\")\n",
    "                res = patternmatcher(paralist[i], gee, eff, ohh, pool, verbose=False)\n",
    "                for kw in res:\n",
    "                    print(\"Pattern\", \"{\" + kw + \"}\", \"was found\", len(res[kw]), \"times, at positions\", res[kw])\n",
    "\n",
    "\n",
    "def plotruntime(f,r,trials=1,figsize=[3,3]):\n",
    "    Times=[timeit.timeit(lambda:f(n),number=trials)/trials for n in r]\n",
    "    fig, ax = plt.subplots(figsize=figsize)\n",
    "    ax.plot(r,Times)\n",
    "    ax.set_xlabel(\"Value of n\")\n",
    "    ax.set_ylabel(\"Runtime\")\n",
    "\n",
    "    \n",
    "def plotruntimes(functions,labels,r,trials=5,figsize=[3,3]):\n",
    "    fig, ax = plt.subplots(figsize=figsize)\n",
    "    for f,l in zip(functions,labels):\n",
    "        Times=[timeit.timeit(lambda:f(n),number=trials)/trials for n in r]\n",
    "        ax.plot(r,Times,label=l)\n",
    "    ax.set_xlabel(\"Value of n\")\n",
    "    ax.set_ylabel(\"Runtime\")\n",
    "    ax.set_title(\"Runtime plot: \"+str(trials)+\" trial\"+(\"s\" if trials>1 else \"\"))\n",
    "    ax.legend()"
   ]
  },
  {
   "cell_type": "markdown",
   "metadata": {},
   "source": [
    "# 3. Function Validations\n",
    "\n",
    "All the validations in this section will mirror the example illustrated and used in the paper \"Efficient string matching: an aid to bibliographic search\" by Aho and Corasick.\n",
    "\n",
    "looking for keywords {he, she, his, hers} within the text string \"ushers\""
   ]
  },
  {
   "cell_type": "code",
   "execution_count": 3,
   "metadata": {},
   "outputs": [],
   "source": [
    "keywords = {\"he\", \"she\", \"his\", \"hers\"}\n",
    "textstring = \"ushers\""
   ]
  },
  {
   "cell_type": "markdown",
   "metadata": {},
   "source": [
    "## Goto function builder and the goto function itself"
   ]
  },
  {
   "cell_type": "code",
   "execution_count": 4,
   "metadata": {},
   "outputs": [
    {
     "name": "stdout",
     "output_type": "stream",
     "text": [
      "The goto function:\n",
      "{(0, 'h'): 1, (1, 'e'): 2, (0, 's'): 3, (3, 'h'): 4, (4, 'e'): 5, (2, 'r'): 6, (6, 's'): 7, (1, 'i'): 8, (8, 's'): 9, (0, 'e'): 0, (0, 'r'): 0, (0, 'i'): 0}\n",
      "The partial output function:\n",
      "{2: ['he'], 5: ['she'], 7: ['hers'], 9: ['his']}\n",
      "The letter pool:\n",
      "['h', 'e', 's', 'r', 'i']\n"
     ]
    }
   ],
   "source": [
    "g = gbuilder(keywords)\n",
    "# g is a 3-tuple containing, in order, goto function, partial output function and letter pool\n",
    "print(\"The goto function:\")\n",
    "print(g[0]) # first of the tuple\n",
    "print(\"The partial output function:\")\n",
    "print(g[1])\n",
    "print(\"The letter pool:\")\n",
    "print(g[2])"
   ]
  },
  {
   "cell_type": "markdown",
   "metadata": {},
   "source": [
    "## Failure function builder, the produced failure and output functions"
   ]
  },
  {
   "cell_type": "code",
   "execution_count": 5,
   "metadata": {
    "scrolled": true
   },
   "outputs": [
    {
     "name": "stdout",
     "output_type": "stream",
     "text": [
      "The failure function:\n",
      "{1: 0, 3: 0, 2: 0, 8: 0, 4: 1, 6: 0, 9: 3, 5: 2, 7: 3}\n",
      "The output function:\n",
      "{2: ['he'], 5: ['she', 'he'], 7: ['hers'], 9: ['his'], 8: [], 4: [], 6: []}\n"
     ]
    }
   ],
   "source": [
    "f = fbuilder(g[0], g[1], g[2]) # feeding failure builder the goto function, partial output and lpool\n",
    "print(\"The failure function:\")\n",
    "print(f[0])\n",
    "print(\"The output function:\")\n",
    "print(f[1])"
   ]
  },
  {
   "cell_type": "markdown",
   "metadata": {},
   "source": [
    "## Delta function builder and the produced delta function"
   ]
  },
  {
   "cell_type": "code",
   "execution_count": 6,
   "metadata": {},
   "outputs": [
    {
     "name": "stdout",
     "output_type": "stream",
     "text": [
      "The delta function:\n",
      "{(0, 'h'): 1, (0, 'e'): 0, (0, 's'): 3, (0, 'r'): 0, (0, 'i'): 0, (1, 'h'): 1, (1, 'e'): 2, (1, 's'): 3, (1, 'r'): 0, (1, 'i'): 8, (3, 'h'): 4, (3, 'e'): 0, (3, 's'): 3, (3, 'r'): 0, (3, 'i'): 0, (2, 'h'): 1, (2, 'e'): 0, (2, 's'): 3, (2, 'r'): 6, (2, 'i'): 0, (8, 'h'): 1, (8, 'e'): 0, (8, 's'): 9, (8, 'r'): 0, (8, 'i'): 0, (4, 'h'): 1, (4, 'e'): 5, (4, 's'): 3, (4, 'r'): 0, (4, 'i'): 8, (6, 'h'): 1, (6, 'e'): 0, (6, 's'): 7, (6, 'r'): 0, (6, 'i'): 0, (9, 'h'): 4, (9, 'e'): 0, (9, 's'): 3, (9, 'r'): 0, (9, 'i'): 0, (5, 'h'): 1, (5, 'e'): 0, (5, 's'): 3, (5, 'r'): 6, (5, 'i'): 0, (7, 'h'): 4, (7, 'e'): 0, (7, 's'): 3, (7, 'r'): 0, (7, 'i'): 0}\n"
     ]
    }
   ],
   "source": [
    "d = deltabuilder(g[0], f[0], g[2])\n",
    "print(\"The delta function:\")\n",
    "print(d)"
   ]
  },
  {
   "cell_type": "markdown",
   "metadata": {},
   "source": [
    "## Pattern matching machine, basic case as presented in the paper"
   ]
  },
  {
   "cell_type": "code",
   "execution_count": 7,
   "metadata": {},
   "outputs": [
    {
     "name": "stdout",
     "output_type": "stream",
     "text": [
      "Pattern {she} found at position 2\n",
      "Pattern {he} found at position 3\n",
      "Pattern {hers} found at position 3\n"
     ]
    }
   ],
   "source": [
    "# inputs are: goto, failure, output, lpool\n",
    "patternmatcher(textstring, g[0], f[0], f[1], g[2])"
   ]
  },
  {
   "cell_type": "markdown",
   "metadata": {},
   "source": [
    "## Alt pattern matching machine using delta function, basic case as presented in the paper"
   ]
  },
  {
   "cell_type": "code",
   "execution_count": 8,
   "metadata": {},
   "outputs": [
    {
     "name": "stdout",
     "output_type": "stream",
     "text": [
      "Pattern {she} found at position 2\n",
      "Pattern {he} found at position 3\n",
      "Pattern {hers} found at position 3\n"
     ]
    }
   ],
   "source": [
    "# inputs are: delta, output, lpool\n",
    "deltamatcher(textstring, d, f[1], g[2])"
   ]
  },
  {
   "cell_type": "markdown",
   "metadata": {},
   "source": [
    "## Pattern matching with prints in a compact format"
   ]
  },
  {
   "cell_type": "code",
   "execution_count": 9,
   "metadata": {},
   "outputs": [
    {
     "name": "stdout",
     "output_type": "stream",
     "text": [
      "Pattern {she} was found 1 times, at positions [2]\n",
      "Pattern {he} was found 1 times, at positions [3]\n",
      "Pattern {hers} was found 1 times, at positions [3]\n"
     ]
    }
   ],
   "source": [
    "patternhelper(keywords,textstring,delta=False, verbose=False)"
   ]
  },
  {
   "cell_type": "markdown",
   "metadata": {},
   "source": [
    "# 4. Code validation\n",
    "\n",
    "This section will verify the requested pattern searching within the assignment description to look for the following keywords as words: {pattern, tree, state, prove, the, it}.\n",
    "\n",
    "This code works if the script is in the same directory as the text file containing the text with each line/paragraph delimited by \\n. \n",
    "\n",
    "### Take note that this is CASE SENSITIVE pattern searching, i.e: The =/= the.\n",
    "\n",
    "This is easily changable by lowercase-ing the inputs with: \n",
    "\n",
    "    for i in range(len(text)):\n",
    "        text[i] = text[i].lower()\n",
    "\n",
    "The default textfile name is fulltext.txt\n",
    "\n",
    "There'll be 2 modifiers, delta which decides on using the deterministic finite automaton suggested in point 6 of the paper on eliminating failure state transitions. And verbose which decides on the print format for pattern matching, default is like that in the paper, which scans the entire text and prints for every pattern matched. When verbose=False, the prints will be summarised instead.\n",
    "\n",
    "There's essentially no change in the print outputs when using delta, this is mostly for verification purposes that the delta function works as intended.\n",
    "\n",
    "For my code I have 2 different helper functions, patternhelper() and paragrapher(). For demonstration purposes paragrapher() was used as it receives lists of strings as inputs, each member in the list represents a line or paragraph within the textfile. The only practical difference in these 2 helper functions are the inputs and prints. As the positions outputted by paragrapher() are that within the paragraph and not the whole text."
   ]
  },
  {
   "cell_type": "code",
   "execution_count": 10,
   "metadata": {},
   "outputs": [],
   "source": [
    "zingers = {\"pattern\", \"tree\", \"state\", \"prove\", \"the\", \"it\"}\n",
    "textfile = open('fulltext.txt', mode='r', encoding=\"utf-8\")\n",
    "text = textfile.readlines()\n",
    "textfile.close()"
   ]
  },
  {
   "cell_type": "markdown",
   "metadata": {},
   "source": [
    "## Default, verbose case"
   ]
  },
  {
   "cell_type": "code",
   "execution_count": 11,
   "metadata": {
    "scrolled": true
   },
   "outputs": [
    {
     "name": "stdout",
     "output_type": "stream",
     "text": [
      "--------------------\n",
      "Within Paragraph 1 :\n",
      "--------------------\n",
      "Pattern {the} found at position 17\n",
      "Pattern {tree} found at position 72\n",
      "Pattern {pattern} found at position 133\n",
      "Pattern {it} found at position 174\n",
      "Pattern {the} found at position 194\n",
      "Pattern {tree} found at position 224\n",
      "Pattern {the} found at position 233\n",
      "Pattern {the} found at position 262\n",
      "Pattern {pattern} found at position 266\n",
      "Pattern {the} found at position 314\n",
      "Pattern {the} found at position 336\n",
      "Pattern {pattern} found at position 342\n",
      "Pattern {the} found at position 360\n",
      "Pattern {the} found at position 374\n",
      "--------------------\n",
      "Within Paragraph 2 :\n",
      "--------------------\n",
      "Pattern {it} found at position 104\n",
      "Pattern {the} found at position 105\n",
      "Pattern {pattern} found at position 109\n",
      "Pattern {prove} found at position 150\n",
      "Pattern {the} found at position 161\n",
      "Pattern {tree} found at position 173\n",
      "Pattern {it} found at position 198\n",
      "Pattern {state} found at position 202\n",
      "Pattern {pattern} found at position 208\n",
      "Pattern {the} found at position 269\n",
      "Pattern {the} found at position 299\n",
      "Pattern {it} found at position 315\n",
      "Pattern {the} found at position 326\n",
      "Pattern {pattern} found at position 340\n",
      "--------------------\n",
      "Within Paragraph 3 :\n",
      "--------------------\n",
      "Pattern {the} found at position 27\n",
      "Pattern {it} found at position 49\n",
      "Pattern {the} found at position 69\n",
      "Pattern {it} found at position 100\n"
     ]
    }
   ],
   "source": [
    "paragrapher(zingers, text, delta=False, verbose=True)"
   ]
  },
  {
   "cell_type": "markdown",
   "metadata": {},
   "source": [
    "## Default, compact case"
   ]
  },
  {
   "cell_type": "code",
   "execution_count": 12,
   "metadata": {},
   "outputs": [
    {
     "name": "stdout",
     "output_type": "stream",
     "text": [
      "--------------------\n",
      "Within Paragraph 1 :\n",
      "--------------------\n",
      "Pattern {the} was found 8 times, at positions [17, 194, 233, 262, 314, 336, 360, 374]\n",
      "Pattern {tree} was found 2 times, at positions [72, 224]\n",
      "Pattern {pattern} was found 3 times, at positions [133, 266, 342]\n",
      "Pattern {it} was found 1 times, at positions [174]\n",
      "--------------------\n",
      "Within Paragraph 2 :\n",
      "--------------------\n",
      "Pattern {it} was found 3 times, at positions [104, 198, 315]\n",
      "Pattern {the} was found 5 times, at positions [105, 161, 269, 299, 326]\n",
      "Pattern {pattern} was found 3 times, at positions [109, 208, 340]\n",
      "Pattern {prove} was found 1 times, at positions [150]\n",
      "Pattern {tree} was found 1 times, at positions [173]\n",
      "Pattern {state} was found 1 times, at positions [202]\n",
      "--------------------\n",
      "Within Paragraph 3 :\n",
      "--------------------\n",
      "Pattern {the} was found 2 times, at positions [27, 69]\n",
      "Pattern {it} was found 2 times, at positions [49, 100]\n"
     ]
    }
   ],
   "source": [
    "paragrapher(zingers, text, delta=False, verbose=False)"
   ]
  },
  {
   "cell_type": "markdown",
   "metadata": {},
   "source": [
    "## Delta, verbose case"
   ]
  },
  {
   "cell_type": "code",
   "execution_count": 13,
   "metadata": {
    "scrolled": true
   },
   "outputs": [
    {
     "name": "stdout",
     "output_type": "stream",
     "text": [
      "--------------------\n",
      "Within Paragraph 1 :\n",
      "--------------------\n",
      "Pattern {the} found at position 17\n",
      "Pattern {tree} found at position 72\n",
      "Pattern {pattern} found at position 133\n",
      "Pattern {it} found at position 174\n",
      "Pattern {the} found at position 194\n",
      "Pattern {tree} found at position 224\n",
      "Pattern {the} found at position 233\n",
      "Pattern {the} found at position 262\n",
      "Pattern {pattern} found at position 266\n",
      "Pattern {the} found at position 314\n",
      "Pattern {the} found at position 336\n",
      "Pattern {pattern} found at position 342\n",
      "Pattern {the} found at position 360\n",
      "Pattern {the} found at position 374\n",
      "--------------------\n",
      "Within Paragraph 2 :\n",
      "--------------------\n",
      "Pattern {it} found at position 104\n",
      "Pattern {the} found at position 105\n",
      "Pattern {pattern} found at position 109\n",
      "Pattern {prove} found at position 150\n",
      "Pattern {the} found at position 161\n",
      "Pattern {tree} found at position 173\n",
      "Pattern {it} found at position 198\n",
      "Pattern {state} found at position 202\n",
      "Pattern {pattern} found at position 208\n",
      "Pattern {the} found at position 269\n",
      "Pattern {the} found at position 299\n",
      "Pattern {it} found at position 315\n",
      "Pattern {the} found at position 326\n",
      "Pattern {pattern} found at position 340\n",
      "--------------------\n",
      "Within Paragraph 3 :\n",
      "--------------------\n",
      "Pattern {the} found at position 27\n",
      "Pattern {it} found at position 49\n",
      "Pattern {the} found at position 69\n",
      "Pattern {it} found at position 100\n"
     ]
    }
   ],
   "source": [
    "paragrapher(zingers, text, delta=True, verbose=True)"
   ]
  },
  {
   "cell_type": "markdown",
   "metadata": {},
   "source": [
    "## Delta, compact case"
   ]
  },
  {
   "cell_type": "code",
   "execution_count": 14,
   "metadata": {
    "scrolled": true
   },
   "outputs": [
    {
     "name": "stdout",
     "output_type": "stream",
     "text": [
      "--------------------\n",
      "Within Paragraph 1 :\n",
      "--------------------\n",
      "Pattern {the} was found 8 times, at positions [17, 194, 233, 262, 314, 336, 360, 374]\n",
      "Pattern {tree} was found 2 times, at positions [72, 224]\n",
      "Pattern {pattern} was found 3 times, at positions [133, 266, 342]\n",
      "Pattern {it} was found 1 times, at positions [174]\n",
      "--------------------\n",
      "Within Paragraph 2 :\n",
      "--------------------\n",
      "Pattern {it} was found 3 times, at positions [104, 198, 315]\n",
      "Pattern {the} was found 5 times, at positions [105, 161, 269, 299, 326]\n",
      "Pattern {pattern} was found 3 times, at positions [109, 208, 340]\n",
      "Pattern {prove} was found 1 times, at positions [150]\n",
      "Pattern {tree} was found 1 times, at positions [173]\n",
      "Pattern {state} was found 1 times, at positions [202]\n",
      "--------------------\n",
      "Within Paragraph 3 :\n",
      "--------------------\n",
      "Pattern {the} was found 2 times, at positions [27, 69]\n",
      "Pattern {it} was found 2 times, at positions [49, 100]\n"
     ]
    }
   ],
   "source": [
    "paragrapher(zingers, text, delta=True, verbose=False)"
   ]
  },
  {
   "cell_type": "markdown",
   "metadata": {},
   "source": [
    "# 5. Code Walkthrough"
   ]
  },
  {
   "cell_type": "markdown",
   "metadata": {},
   "source": [
    "For all of the automatas(i.e: goto, failure, output, delta), I stored the information needed for them to function within python dictionaries. This is to me the most intuitive and efficient way of making a static function that only serves 2 operations, storing and calling. \n",
    "\n",
    "For example, for a variable a and a function f(x). f(x) would support storing some information, i.e: f(a) <- 7. As well as returning such information when called, i.e: f(a) = 7. \n",
    "\n",
    "In a true sense f(x) isn't really a mathematical(or pythonic) function but rather a storing object for pre-calculations done elsewhere.\n",
    "\n",
    "As for the functions delta and goto which recieves 2 variables, state and symbol, not much really change, as I can always treat the inputs as a tuple (here it's a 2-ple). "
   ]
  },
  {
   "cell_type": "markdown",
   "metadata": {},
   "source": [
    "As for the algorithms, I closely mirror those that were described in the paper using pseudocodes. Since the explainations on how the automatas were built in the paper are very exhaustive and as a result, intuitive, I will summarise the functioning of the non-pythonic functions(automatas) instead of repeating what's already well explained in the paper.\n",
    "\n",
    "The only deviation from the pseudocode is the letterpools, but I'm not sure how else I would keep track of all the letters that are concerned within the goto function."
   ]
  },
  {
   "attachments": {
    "Acrobat_oFc7bkE7k8.png": {
     "image/png": "[encoded data removed]"
    }
   },
   "cell_type": "markdown",
   "metadata": {},
   "source": [
    "### Goto function\n",
    "The goto function is a trie of the keywords, recieves as input a state number, a symbol, and returns the next state to assume.\n",
    "### Failure function\n",
    "The failure function is a fallback for looking up state+symbol when the goto function returns a fail. For each state, f(state) has a redirect to a fallback state for when g(state,symbol) returns a fail.\n",
    "![Acrobat_oFc7bkE7k8.png](attachment:Acrobat_oFc7bkE7k8.png)\n",
    "This modified figure from the paper summerise the failure function's extra information for the trie, represented by red arrows. All nodes that do not have a red arrow coming from it, on fail states they return to state 0.\n",
    "### Output function\n",
    "The output function contains all the valid states that the pattern matching machine is at when it goes past keywords.\n",
    "### Delta function\n",
    "The use of the delta or next move function seeks to eliminate failure state transitions mapped by the failure function. A pattern matching machine that uses the next move function, in this paper such function is called deltamatcher(), for all failstates, there's only one state transition which is guided by delta function. In essense the delta function is a merge/calculated by a goto and a failure function that precalculates all multiple fail-states transitions. The authors describe the use of a delta function may eliminate up to 50% of fail state transitions(which is represented by the loop: \n",
    "    while (state, txt[i]) not in g:\n",
    "        state = f[state]\n",
    "within the patternmatcher() function. By replacing this while loop with a single call to the delta function, multiple fail states transitions are eliminated. However this time saving comes at a cost of slightly more memory, as well as the fact that the pattern matching machine stays at state 0 for most of its runtime in practice.\n"
   ]
  },
  {
   "cell_type": "markdown",
   "metadata": {},
   "source": [
    "# 6. Discussions"
   ]
  },
  {
   "cell_type": "code",
   "execution_count": 15,
   "metadata": {},
   "outputs": [],
   "source": [
    "threefile = open('threes.txt', mode='r', encoding=\"utf-8\")\n",
    "threes = threefile.readlines()\n",
    "threefile.close()\n",
    "for i in range(len(threes)):\n",
    "    threes[i] = threes[i].strip()\n",
    "# threes is a list of all 3 letter english words\n",
    "textfile = open('suomi.txt', mode='r', encoding=\"utf-8\")\n",
    "text = textfile.read()\n",
    "textfile.close()"
   ]
  },
  {
   "cell_type": "markdown",
   "metadata": {},
   "source": [
    "## Runtime performance"
   ]
  },
  {
   "cell_type": "markdown",
   "metadata": {},
   "source": [
    "For these next tests, I vary the keywords as n, which are 3 letters english words(probably?). n here represents the number of keywords in play, as well as the total lengths of keywords. The target text is static and is the first 3 paragraphs of the wikipedia page for Finland.\n",
    "Theoretically the runtime of the Aho-Corasick should be in linear time to total keyword length."
   ]
  },
  {
   "cell_type": "markdown",
   "metadata": {},
   "source": [
    "### Impacts by delta"
   ]
  },
  {
   "cell_type": "code",
   "execution_count": 16,
   "metadata": {},
   "outputs": [
    {
     "data": {
      "image/png": "[encoded data removed]",
      "text/plain": [
       "<Figure size 216x216 with 1 Axes>"
      ]
     },
     "metadata": {
      "needs_background": "light"
     },
     "output_type": "display_data"
    }
   ],
   "source": [
    "with HiddenPrints():\n",
    "    plotruntimes([lambda n:patternhelper(threes[:n], text, delta = True, verbose = False),\n",
    "              lambda n:patternhelper(threes[:n], text, delta = False, verbose = False)],\n",
    "             [\"Delta\",\"Non-Delta\"],range(10,500))"
   ]
  },
  {
   "cell_type": "markdown",
   "metadata": {},
   "source": [
    "This result is slightly surprising to me as I expected running the function with delta instead of goto and failure would slightly improve on runtime, however it is the opposite. This is however, possibly explained by the fact that every time delta is requested for a search, it requires the calculation of merging goto and failure. As such for each different delta pattern matching cases it takes more time to complete a simple search operations. However, meaningful time savings may be achieved if we bring the same delta function(and forcibly the same keywords) and apply it on multiple tests and reusing a pre-baked delta function. However for single-search operations, delta significantly reduces efficiency.\n",
    "\n",
    "Within this performance tests however, we vary the keywords and not the target text."
   ]
  },
  {
   "cell_type": "markdown",
   "metadata": {},
   "source": [
    "### Impacts by verbose"
   ]
  },
  {
   "cell_type": "code",
   "execution_count": 17,
   "metadata": {},
   "outputs": [
    {
     "data": {
      "image/png": "[encoded data removed]",
      "text/plain": [
       "<Figure size 216x216 with 1 Axes>"
      ]
     },
     "metadata": {
      "needs_background": "light"
     },
     "output_type": "display_data"
    }
   ],
   "source": [
    "with HiddenPrints():\n",
    "    plotruntimes([lambda n:patternhelper(threes[:n], text, delta = False, verbose = True),\n",
    "              lambda n:patternhelper(threes[:n], text, delta = False, verbose = False)],\n",
    "             [\"Verbose\",\"Compact\"],range(10,500))"
   ]
  },
  {
   "cell_type": "markdown",
   "metadata": {},
   "source": [
    "Verbose here adds a flat rate to runtime, possibly due to the increase in amount of print() calls compared to a compact case"
   ]
  },
  {
   "cell_type": "markdown",
   "metadata": {},
   "source": [
    "Overall we can verify the linear runtime to total keyword length through these graphs."
   ]
  },
  {
   "cell_type": "markdown",
   "metadata": {},
   "source": [
    "## Memory perfomance (beta)"
   ]
  },
  {
   "cell_type": "markdown",
   "metadata": {},
   "source": [
    "I apologise if this seems messy and possibly completely wrong, this is the first time I'm trying to measure memory performance.\n",
    "\n",
    "Running the codes below require the library guppy3"
   ]
  },
  {
   "cell_type": "markdown",
   "metadata": {},
   "source": [
    "###  Total memory usage by non-delta case"
   ]
  },
  {
   "cell_type": "code",
   "execution_count": 37,
   "metadata": {},
   "outputs": [
    {
     "name": "stdout",
     "output_type": "stream",
     "text": [
      "Pattern {finland} was found 21 times, at positions [1, 70, 116, 173, 229, 475, 530, 993, 1297, 1433, 1496, 1599, 1821, 1906, 2037, 2166, 2237, 2527, 2615, 2814, 3014]\n",
      "Pattern {finnish} was found 6 times, at positions [10, 182, 685, 1420, 1518, 1997]\n",
      "Pattern {euro} was found 5 times, at positions [311, 1624, 2696, 2724, 2779]\n",
      "Pattern {it} was found 26 times, at positions [319, 343, 600, 662, 680, 815, 950, 1010, 1207, 1714, 1778, 1843, 1850, 2188, 2196, 2218, 2318, 2489, 2511, 2548, 2610, 2791, 2922, 2954, 3061, 3240]\n",
      "Pattern {world} was found 7 times, at positions [774, 1689, 2023, 2305, 3046, 3136, 3268]\n",
      "Pattern {war} was found 8 times, at positions [1428, 2011, 2029, 2083, 2108, 2145, 2160, 2311]\n",
      "Partition of a set of 24 objects. Total size = 2713 bytes.\n",
      " Index  Count   %     Size   % Cumulative  % Kind (class / dict of class)\n",
      "     0      3  12     1360  50      1360  50 types.FrameType\n",
      "     1      3  12      192   7      1552  57 types.MethodType\n",
      "     2      1   4      176   6      1728  64 types.CodeType\n",
      "     3      3  12      160   6      1888  70 tuple\n",
      "     4      2   8      120   4      2008  74 list\n",
      "     5      1   4      112   4      2120  78 asyncio.events.TimerHandle\n",
      "     6      1   4      104   4      2224  82 dict of _ast.Module\n",
      "     7      3  12       92   3      2316  85 int\n",
      "     8      1   4       80   3      2396  88 functools.partial\n",
      "     9      1   4       72   3      2468  91 builtins.weakref\n",
      "<5 more rows. Type e.g. '_.more' to view.>\n"
     ]
    }
   ],
   "source": [
    "hp = hpy()\n",
    "zingers = {\"finland\", \"euro\", \"finnish\", \"world\", \"war\", \"it\"}\n",
    "textfile = open('suomi.txt', mode='r', encoding=\"utf-8\")\n",
    "text = textfile.read()\n",
    "text = text.lower()\n",
    "textfile.close()\n",
    "# starting point of mem measurement\n",
    "hp.setrelheap()\n",
    "patternhelper(zingers, text, delta=False, verbose=False)\n",
    "h = hp.heap()\n",
    "print(h)"
   ]
  },
  {
   "cell_type": "markdown",
   "metadata": {},
   "source": [
    "###  Total memory usage by delta case"
   ]
  },
  {
   "cell_type": "code",
   "execution_count": 40,
   "metadata": {},
   "outputs": [
    {
     "name": "stdout",
     "output_type": "stream",
     "text": [
      "Pattern {finland} was found 21 times, at positions [1, 70, 116, 173, 229, 475, 530, 993, 1297, 1433, 1496, 1599, 1821, 1906, 2037, 2166, 2237, 2527, 2615, 2814, 3014]\n",
      "Pattern {finnish} was found 6 times, at positions [10, 182, 685, 1420, 1518, 1997]\n",
      "Pattern {the} was found 62 times, at positions [157, 305, 357, 377, 397, 426, 449, 463, 486, 519, 645, 694, 717, 737, 770, 781, 827, 834, 869, 876, 898, 1036, 1065, 1137, 1212, 1246, 1274, 1287, 1369, 1376, 1416, 1466, 1545, 1614, 1672, 1685, 1722, 1779, 1877, 1958, 1993, 2052, 2072, 2091, 2133, 2156, 2288, 2319, 2440, 2542, 2630, 2648, 2692, 2720, 2775, 3042, 3074, 3105, 3132, 3162, 3206, 3264]\n",
      "Pattern {euro} was found 5 times, at positions [311, 1624, 2696, 2724, 2779]\n",
      "Pattern {it} was found 26 times, at positions [319, 343, 600, 662, 680, 815, 950, 1010, 1207, 1714, 1778, 1843, 1850, 2188, 2196, 2218, 2318, 2489, 2511, 2548, 2610, 2791, 2922, 2954, 3061, 3240]\n",
      "Pattern {world} was found 7 times, at positions [774, 1689, 2023, 2305, 3046, 3136, 3268]\n",
      "Partition of a set of 27 objects. Total size = 2865 bytes.\n",
      " Index  Count   %     Size   % Cumulative  % Kind (class / dict of class)\n",
      "     0      3  11     1360  47      1360  47 types.FrameType\n",
      "     1      4  15      232   8      1592  56 list\n",
      "     2      3  11      192   7      1784  62 types.MethodType\n",
      "     3      1   4      176   6      1960  68 types.CodeType\n",
      "     4      3  11      160   6      2120  74 tuple\n",
      "     5      1   4      112   4      2232  78 asyncio.events.TimerHandle\n",
      "     6      1   4      104   4      2336  82 dict of _ast.Module\n",
      "     7      3  11       92   3      2428  85 int\n",
      "     8      1   4       80   3      2508  88 functools.partial\n",
      "     9      1   4       72   3      2580  90 builtins.weakref\n",
      "<6 more rows. Type e.g. '_.more' to view.>\n"
     ]
    }
   ],
   "source": [
    "hp = hpy()\n",
    "zingers = {\"finland\", \"euro\", \"finnish\", \"world\", \"the\", \"it\"}\n",
    "textfile = open('suomi.txt', mode='r', encoding=\"utf-8\")\n",
    "text = textfile.read()\n",
    "text = text.lower()\n",
    "textfile.close()\n",
    "# starting point of mem measurement\n",
    "hp.setrelheap()\n",
    "patternhelper(zingers, text, delta=True, verbose=False)\n",
    "h = hp.heap()\n",
    "print(h)"
   ]
  },
  {
   "cell_type": "markdown",
   "metadata": {},
   "source": [
    "From these 2 results we can see that in the case of using next move function delta, the memory usage increased from 2713 bytes to 2865 bytes. Consistent of the author's statement on the increased memory usage of the next-move function. However the author's notion of memory might've been peak usage and here this is total memory usage."
   ]
  },
  {
   "cell_type": "code",
   "execution_count": null,
   "metadata": {},
   "outputs": [],
   "source": []
  }
 ],
 "metadata": {
  "kernelspec": {
   "display_name": "Python 3",
   "language": "python",
   "name": "python3"
  },
  "language_info": {
   "codemirror_mode": {
    "name": "ipython",
    "version": 3
   },
   "file_extension": ".py",
   "mimetype": "text/x-python",
   "name": "python",
   "nbconvert_exporter": "python",
   "pygments_lexer": "ipython3",
   "version": "3.8.5"
  }
 },
 "nbformat": 4,
 "nbformat_minor": 4
}
