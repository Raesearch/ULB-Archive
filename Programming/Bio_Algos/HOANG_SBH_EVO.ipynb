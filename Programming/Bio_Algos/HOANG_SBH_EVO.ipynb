{
 "cells": [
  {
   "cell_type": "markdown",
   "metadata": {},
   "source": [
    "# INFO-F-438 - Algorithms in computational biology - 2021\n",
    "\n",
    "## Assignment 3: Using evolutionary programming to reconstruct DNA sequence information \n",
    "\n",
    "### Name: Hoang Hai Nam\n",
    "### M. No.: 443146\n",
    "\n",
    "Python version used and tested : 3.8\n",
    "\n",
    "Imported libraries: itertools, random, numpy, ggplot2(R), astropy(not needed to run code)"
   ]
  },
  {
   "cell_type": "markdown",
   "metadata": {},
   "source": [
    "## Imports:"
   ]
  },
  {
   "cell_type": "code",
   "execution_count": 1,
   "metadata": {},
   "outputs": [],
   "source": [
    "import itertools as it\n",
    "import random as rd\n",
    "import numpy as np\n",
    "import timeit\n",
    "import matplotlib.pyplot as plt"
   ]
  },
  {
   "cell_type": "markdown",
   "metadata": {},
   "source": [
    "## Functions:"
   ]
  },
  {
   "cell_type": "code",
   "execution_count": 2,
   "metadata": {},
   "outputs": [],
   "source": [
    "def randomstring(length):\n",
    "    \"\"\"generates a random DNA string\"\"\"\n",
    "    nucs = ['a', 'g', 't', 'c']\n",
    "    res = []\n",
    "    for i in range(length):\n",
    "        res += rd.choices(nucs)\n",
    "    return \"\".join(res)\n",
    "\n",
    "\n",
    "def subscore(s1, s2):\n",
    "    \"\"\"returns substitution score(between 0 and len),\n",
    "    only accepts 2 sequences of EQUAL length\"\"\"\n",
    "    res = 0\n",
    "    if len(s1) != len(s2):\n",
    "        return None\n",
    "    else:\n",
    "        for i in range(len(s1)):\n",
    "            if s1[i] == s2[i]:\n",
    "                res += 1\n",
    "    return res\n",
    "\n",
    "\n",
    "def strcomplement(s):\n",
    "    \"\"\"receives a string(of a probe)\n",
    "    and returns its complementary\n",
    "    binding patterns as a string\"\"\"\n",
    "    return s.replace(\"a\", \"T\").replace(\"t\", \"A\").replace(\"c\", \"G\").replace(\"g\", \"C\").lower()\n",
    "\n",
    "\n",
    "def probegen(n):\n",
    "    \"\"\"generates an iterable object of probes of size n.\n",
    "    '4 to the power of n' number of elements\"\"\"\n",
    "    return it.product('atgc', repeat=n)\n",
    "\n",
    "\n",
    "def generateFP(s, n, t=None):\n",
    "    \"\"\"Inputs: s: sequence\n",
    "               n: probe size\n",
    "               t: threshold\n",
    "       Output: Dictionary\n",
    "    Takes in a sequence and returns its SBH Flourescence Pattern\"\"\"\n",
    "    if t is None:\n",
    "        t = n // 2\n",
    "    # main dictionary of FP scores\n",
    "    fps = {}\n",
    "    # sequence length\n",
    "    sqln = len(s)\n",
    "    # pre-calculation of max scoring probes, saves time scanning entire sequence with these probes\n",
    "    # good because it doesn't \"sacrifice\" storage as these probes information needs to be stored anyways\n",
    "    # scans the entire sequence with a window of size n, converts it to the probe equivalent, and saving the score\n",
    "    i = 0\n",
    "    e = n\n",
    "    while e <= sqln:\n",
    "        # assign score to the probe(which is the complement of the subseq), max_score = probelen\n",
    "        fps[strcomplement(s[i:e])] = n\n",
    "        i += 1\n",
    "        e += 1\n",
    "    # generates all probes of length n\n",
    "    probes = probegen(n)\n",
    "    # iterates through all the probes\n",
    "    for elem in probes:\n",
    "        # converts the tuple(element of the iterable) to a string\n",
    "        prbstr = ''.join(elem)\n",
    "        # checks for pre-existing pre-calculated probes\n",
    "        if prbstr not in fps:\n",
    "            # pool of binding efficiency scores\n",
    "            pool = []\n",
    "            # reusing previous positional arguments, probably wont break :)\n",
    "            i = 0\n",
    "            e = n\n",
    "            # scans the entire sequence with a window of size n, comparing each time to the probe\n",
    "            while e <= sqln:\n",
    "                # converts the probe into its complementary binding pattern and calculates the score between it and\n",
    "                # the window.\n",
    "                # binding efficiency score is then appended into the pool\n",
    "                pool.append(subscore(strcomplement(prbstr), s[i:e]))\n",
    "                i += 1\n",
    "                e += 1\n",
    "            # filter out low scoring probes, t = threshold\n",
    "            if max(pool) >= t:\n",
    "                fps[prbstr] = max(pool)\n",
    "    return fps\n",
    "\n",
    "\n",
    "def dictcontest(d1, d2):\n",
    "    \"\"\"compares 2 dictionaries and return score of absolute differences\n",
    "    or absolute number of errors, i.e: higher = worse\"\"\"\n",
    "    res = 0\n",
    "    # converting keys into sets, easier and more efficient to do set operations\n",
    "    sd1 = set(d1)\n",
    "    sd2 = set(d2)\n",
    "    # catching differences in values, checks through all intersecting keys(in both dictionary)\n",
    "    for i in sd1.intersection(sd2):\n",
    "        if d1[i] != d2[i]:\n",
    "            res += 1\n",
    "    # the opposite of intersection between dictionaries, catching differences in keys,\n",
    "    # regardless of value, counts as a difference\n",
    "    res += len(sd1.symmetric_difference(sd2))\n",
    "    return res\n",
    "\n",
    "\n",
    "def pointmut(seq, j):\n",
    "    \"\"\"receives a sequence and numbers of nucs to randomly replace.\n",
    "    returns a point mutated sequence\"\"\"\n",
    "    nucs = \"atgc\"\n",
    "    seql = list(seq)\n",
    "    # loops for j times or numbers of nucs to mutate\n",
    "    for i in range(j):\n",
    "        # picks a random index and replace with a random nuc\n",
    "        seql[rd.randint(0, len(seq) - 1)] = rd.choice(nucs)\n",
    "    return ''.join(seql)\n",
    "\n",
    "\n",
    "def rotmut(seq, j, clock=True):\n",
    "    \"\"\"receives a sequence, numbers of nucs to rotate by, direction\n",
    "    returns rotated nuc seq [has no random element in the fct]\"\"\"\n",
    "    res = []\n",
    "    sqlen = len(seq)\n",
    "    # a clockwise rotation would be the window moving to the left and the DNA moving to the right\n",
    "    if clock:\n",
    "        # in practice, a clockwise rotation would just be taking a suffix subsequence and putting it as a prefix\n",
    "        res.append(seq[(sqlen - j):sqlen])\n",
    "        res.append(seq[0:(sqlen - j)])\n",
    "    else:\n",
    "        # and likewise a counter clockwise rotation would be taking a prefix and making it a suffix\n",
    "        res.append(seq[j:sqlen])\n",
    "        res.append(seq[0:j])\n",
    "    return ''.join(res)\n",
    "\n",
    "\n",
    "def insmut(seq, j):\n",
    "    \"\"\"recieves a sequence and subsequence length that will be randomly moved\"\"\"\n",
    "    # converts sequence into a list, easier to work with than a string\n",
    "    seql = list(seq)\n",
    "    # randomly selected start of subsequence, has a limit of len-j as subseq is picked left to right\n",
    "    rpos = rd.randint(0, len(seq) - j)\n",
    "    # saves chosen subsequence at fixed, predefined length, this will be our moved window\n",
    "    subseq = seql[rpos:rpos + j]\n",
    "    # removes subsequence from list\n",
    "    del seql[rpos:rpos + j]\n",
    "    # recycling rpos for another random interger, this time any position on the resulting sequence suffices\n",
    "    rpos = rd.randint(0, len(seql))\n",
    "    # inserts subseq into chosen pos, there're len+1 possible positions, len:len would be at the very end\n",
    "    seql[rpos:rpos] = subseq\n",
    "    return ''.join(seql)\n",
    "\n",
    "\n",
    "def evolute(FPr, probesize, N, M, maxgen):\n",
    "    \"\"\"recieves a reference Flourescent Pattern, probesize, sequencesize, generationsize, populationsize, maxgen\n",
    "    iterates for maximum of maxgen times, tries to find a sequence that produces the same FP as the reference\n",
    "    stops either at maxgen or when such a sequence is found, returns the generation it stops at\"\"\"\n",
    "    # list of global population\n",
    "    population = []\n",
    "    # list of population score\n",
    "    popscores = []\n",
    "    # list of current contesting solutions\n",
    "    sol = []\n",
    "    # list of list of mutation parameters linked to solution family\n",
    "    # for [i][j] coordinates, [i] being the index of one of the current generation, [j] being the mutation\n",
    "    # choice(there're 3 in total, 0 for pointmut, 1 for rotmut, and 2 for insmut)\n",
    "    para = []\n",
    "    # PHASE 1: initialisation phase\n",
    "    for i in range(M):\n",
    "        sol.append(randomstring(N))\n",
    "        para.append([4, 4, 4])  # index: pointmut=0 ; rotmut=1; insmut=2\n",
    "    population.extend(sol)\n",
    "    # precalculate all scores in parents\n",
    "    # population scores are appended to popscores\n",
    "    for seq in population:\n",
    "        popscores.append(dictcontest(FPr, generateFP(seq, probesize)))\n",
    "    gen = 0\n",
    "    ##############################################\n",
    "    # start of a massive generation loop\n",
    "    while gen < maxgen and min(popscores) != 0:\n",
    "        # PHASE 2: mutation phase | pointmut=0 ; rotmut=1; insmut=2\n",
    "        # loops through all the current generation within sol\n",
    "        for i in range(M):\n",
    "            # randomly choosing a mutation\n",
    "            mut = rd.randint(0, 2)\n",
    "            # mutation of mutation parameters\n",
    "            para[i][mut] = para[i][mut] + 0.5 * np.random.normal()  # np.random.normal's default parameters are (0,1)\n",
    "            # boundary checks for para[i][j], the mutation parameter\n",
    "            if para[i][mut] > N:\n",
    "                para[i][mut] = N\n",
    "            elif para[i][mut] < 1:\n",
    "                para[i][mut] = 1\n",
    "            J = np.random.poisson(para[i][mut])\n",
    "            # case of pointmut,\n",
    "            if mut == 0:\n",
    "                # boundary checks for j1\n",
    "                if J > N:\n",
    "                    J = N\n",
    "                elif J < 1:\n",
    "                    J = 1\n",
    "                sol[i] = pointmut(sol[i], J)\n",
    "            else:\n",
    "                # boundary checks for j2 or j3\n",
    "                if J > N // 2:\n",
    "                    J = N // 2\n",
    "                elif J < 1:\n",
    "                    J = 1\n",
    "                # rotmut\n",
    "                if mut == 1:\n",
    "                    sol[i] = rotmut(sol[i], J, clock=rd.choice([True, False]))\n",
    "                # insmut\n",
    "                elif mut == 2:\n",
    "                    sol[i] = insmut(sol[i], J)\n",
    "        # PHASE 3: FITNESS EVAL\n",
    "        # adding the current generation to the total population, as well as storing their scores\n",
    "        # could check for duplicates however it only marginally improves space and doesn't save much on runtime\n",
    "        # this is the fitness evaluation phase described in the paper\n",
    "        for elem in sol:\n",
    "            population.append(elem)\n",
    "            popscores.append(dictcontest(FPr, generateFP(elem, probesize)))\n",
    "        # clear the current solution list, as the current generation is already in population\n",
    "        sol.clear()\n",
    "        ##############################################\n",
    "        # PHASE 4: Tournament\n",
    "        # tournament arc\n",
    "        poplen = len(population)\n",
    "        # pseudo-empty list for population tourney scores\n",
    "        poptourney = []\n",
    "        # loops the entire population !! EXTREMELY SLOW AS POPULATION RISES\n",
    "        for mem in range(poplen):\n",
    "            tscore = 0\n",
    "            # sampling 10 random opponents, doesnt matter if a sequence gets pitched against itself and\n",
    "            # get a free point, the odds of this happening becoming extremely smaller as population increases\n",
    "            opponents = rd.sample(range(0, poplen), 10)\n",
    "            for opp in opponents:\n",
    "                if popscores[mem] <= popscores[opp]:\n",
    "                    tscore += 1\n",
    "            # saves member scores to poptourney\n",
    "            poptourney.append(tscore)\n",
    "        # PHASE 5: Selection\n",
    "        # choosing M winners with the highest tscores, their population indexes are stored into champs\n",
    "        champs = np.argpartition(poptourney, -M)[-M:]\n",
    "        # taking champion's population index information to make the champions into the next generation's parents\n",
    "        # refilling sol, which were cleared after the fitness phase\n",
    "        for index in champs:\n",
    "            sol.append(population[index])\n",
    "        gen += 1\n",
    "    if gen < maxgen:\n",
    "        return gen, population[popscores.index(min(popscores))]\n",
    "    else:\n",
    "        return \"maxgen reached\", population[popscores.index(min(popscores))], min(popscores)\n",
    "\n",
    "\n",
    "def plotruntime(f,r,trials=1,figsize=[3,3]):\n",
    "    Times=[timeit.timeit(lambda:f(n),number=trials)/trials for n in r]\n",
    "    fig, ax = plt.subplots(figsize=figsize)\n",
    "    ax.plot(r,Times)\n",
    "    ax.set_xlabel(\"Value of n\")\n",
    "    ax.set_ylabel(\"Runtime\")\n",
    "\n",
    "    \n",
    "def plotruntimes(functions,labels,r,trials=5,figsize=[3,3]):\n",
    "    fig, ax = plt.subplots(figsize=figsize)\n",
    "    for f,l in zip(functions,labels):\n",
    "        Times=[timeit.timeit(lambda:f(n),number=trials)/trials for n in r]\n",
    "        ax.plot(r,Times,label=l)\n",
    "    ax.set_xlabel(\"Value of n\")\n",
    "    ax.set_ylabel(\"Runtime\")\n",
    "    ax.set_title(\"Runtime plot: \"+str(trials)+\" trial\"+(\"s\" if trials>1 else \"\"))\n",
    "    ax.legend()\n",
    "    \n",
    "\n",
    "def evologger(probesize, r, M, maxgen, trials):\n",
    "    \"\"\"logs errors, its stdev, successes after a given number of trials\"\"\"\n",
    "    t = Table(names=('N', 'Mean Best Error', 'StDev', 'Sucesses(out of 20)', \"R for .95 success\"), )\n",
    "    for n in r:\n",
    "        errors = []\n",
    "        for i in range(trials):\n",
    "            FPref = generateFP(randomstring(n), probesize)\n",
    "            result = evolute(FPref, probesize, n, M, maxgen)\n",
    "            # the case of sucesses\n",
    "            if len(result) == 2:\n",
    "                errors.append(0)\n",
    "            else:\n",
    "                errors.append(result[2])\n",
    "        if max(errors) != 0:\n",
    "            bigR = int(np.log10(0.05)/np.log10(1-(1-(errors.count(0)/len(errors)))))\n",
    "        else:\n",
    "            bigR = 1\n",
    "        t.add_row([n, np.average(errors), np.std(errors), errors.count(0), bigR])\n",
    "    return t\n"
   ]
  },
  {
   "cell_type": "markdown",
   "metadata": {},
   "source": [
    "## Code Validations/ Proving that everything works"
   ]
  },
  {
   "cell_type": "markdown",
   "metadata": {},
   "source": [
    "### Task 1: Generate FP from a sequence"
   ]
  },
  {
   "cell_type": "code",
   "execution_count": 3,
   "metadata": {},
   "outputs": [
    {
     "name": "stdout",
     "output_type": "stream",
     "text": [
      "gcggtgcagg\n",
      "{'cgcc': 4, 'gcca': 4, 'ccac': 4, 'cacg': 4, 'acgt': 4, 'cgtc': 4, 'gtcc': 4, 'aagt': 3, 'aacg': 3, 'atgt': 3, 'atcc': 3, 'agtc': 3, 'aggt': 3, 'agcc': 3, 'acat': 3, 'acac': 3, 'actt': 3, 'acga': 3, 'acgg': 3, 'acgc': 3, 'acca': 3, 'acct': 3, 'tacg': 3, 'ttcc': 3, 'tgtc': 3, 'tgcc': 3, 'tcac': 3, 'tcgt': 3, 'tcca': 3, 'gaca': 3, 'gacg': 3, 'gacc': 3, 'gtac': 3, 'gttc': 3, 'gtgc': 3, 'gtca': 3, 'gtct': 3, 'gtcg': 3, 'ggtc': 3, 'ggca': 3, 'ggcc': 3, 'gcaa': 3, 'gcac': 3, 'gcta': 3, 'gcga': 3, 'gcgt': 3, 'gcct': 3, 'gccg': 3, 'gccc': 3, 'caag': 3, 'caac': 3, 'catg': 3, 'catc': 3, 'cagg': 3, 'caca': 3, 'cact': 3, 'cacc': 3, 'ctac': 3, 'cttc': 3, 'ctcg': 3, 'ctcc': 3, 'cgac': 3, 'cgta': 3, 'cgtt': 3, 'cgtg': 3, 'cggc': 3, 'cgca': 3, 'cgct': 3, 'cgcg': 3, 'ccaa': 3, 'ccat': 3, 'ccag': 3, 'cctc': 3, 'ccgt': 3, 'ccgc': 3, 'ccca': 3, 'cccg': 3, 'cccc': 3}\n"
     ]
    }
   ],
   "source": [
    "# sequence length\n",
    "seqlen = 10\n",
    "# probe size/length\n",
    "prblen = 4\n",
    "# threshold under which FP binding efficiency will be ignored/set to 0\n",
    "# set to the paper's default which is n/2\n",
    "threshold = 3\n",
    "refseq = randomstring(seqlen)\n",
    "print(refseq)\n",
    "FPref = generateFP(refseq, prblen, threshold)\n",
    "print(FPref)\n"
   ]
  },
  {
   "cell_type": "markdown",
   "metadata": {},
   "source": [
    "Here is a demonstration of the generateFP function. I set the sequence length and probe length low, as well as threshold a bit higher so that the print doesn't completely take over. However in the actual evolute option there isn't an open way to customise the threshold, as such it uses the default probesize/2 within the generateFP function.\n",
    "\n",
    "Notice that the probes are complimentary to the sequence and not its binding pattern."
   ]
  },
  {
   "cell_type": "markdown",
   "metadata": {},
   "source": [
    "The GenerateFP function works by first logging all the subsequences of len(probelen) within the target sequence, as these are binding patterns of probes that can score the maximum score(probelen). As such this saves on runtime sliding the subsequence along the target, as we're only interested in the maxscores of the probes.\n",
    "Then the function calls from probegen which produces an iteratable object of products of ATGC of length probelen. This would be a massive matrix of size 4^probelen if it was stored in a matrix. However I assumed that with the object generated by itertools( which may saves on memory used), and iterating through the object and only saving probes with a large enough score(>threshold), it is a good compromise without losing much information.\n",
    "Each probe were first converted into its binding pattern before being slided across the entire sequence accumulating scores. This conversion step isn't really required as long as all sequences being validated with GenerateFP uses the same function later on. The highest score is then picked and the probe is saved if it passes the threshold. GenerateFP gives a dictionary with all the relevant non-null probes and its score.\n",
    "\n",
    "Sidenote: While I considered having a helper function that would store and precalculate all possible alignments of length probelen, the space required might be too large to be practical as probelen increases."
   ]
  },
  {
   "cell_type": "markdown",
   "metadata": {},
   "source": [
    "### Task 2: Finding a sequence based on a reference FP using evolutionary programming"
   ]
  },
  {
   "cell_type": "code",
   "execution_count": 4,
   "metadata": {},
   "outputs": [
    {
     "name": "stdout",
     "output_type": "stream",
     "text": [
      "accgggtcaa\n",
      "(10, 'accgggtcaa')\n"
     ]
    }
   ],
   "source": [
    "# sequence length\n",
    "seqlen = 10\n",
    "# probe size/length\n",
    "prblen = 5\n",
    "rd.seed(1)\n",
    "np.random.seed(2)\n",
    "refseq = randomstring(seqlen)\n",
    "print(refseq)\n",
    "FPref = generateFP(refseq, prblen)\n",
    "print(evolute(FPref, prblen, seqlen, 50, 1000))\n"
   ]
  },
  {
   "cell_type": "markdown",
   "metadata": {},
   "source": [
    "Here's a demonstration of the evolute function, here the random functions are SEEDED, these seeds represent a lucky strike for demonstration purposes. The function returns the generations in which it stops, and the closest sequence in a 2-ple. On my machine this seeded demonstration takes around 2 seconds. However if you want to try your luck and remove the seeded calls I've found that it takes anywhere between 1 second(yes really) to 2 minutes for these sequence and probe length settings."
   ]
  },
  {
   "cell_type": "markdown",
   "metadata": {},
   "source": [
    "The evolute function works as described in the article.\n",
    "I've found that the main bottleneck is in the tournament phase when all of the members of the population are evaluated. Even with their score saved and tracked in popscores, as the population increases with each generation this considerably slows down the function as time goes on.\n",
    "\n",
    "However I've found that playing around with the parents size(M) can also improve overall performance. With a very low M, the generations complete much faster as the population grows much slower, however the generation reached before a perfect match is found will increase.\n",
    "While on the other side of the spectrum, having a massive M may bog down generations incrementation and having the opposite effect. I investigated this a little bit lower down the file.\n",
    "\n",
    "While it is true that lists are not as efficient as dictionaries and iterators. I ran into great difficulty trying to implement dictionaries for the population and its FPscores here as most of my loops requires tracking of indexes and python dictionaries are unordered and unindexed."
   ]
  },
  {
   "cell_type": "markdown",
   "metadata": {},
   "source": [
    "### Other miscellaneous functions"
   ]
  },
  {
   "cell_type": "code",
   "execution_count": 7,
   "metadata": {},
   "outputs": [
    {
     "name": "stdout",
     "output_type": "stream",
     "text": [
      "2\n"
     ]
    }
   ],
   "source": [
    "dtest1 = {\"abcd\":5, \"efg\": 4}\n",
    "dtest2 = {\"abcd\":5, \"efg\": 3, \"qrf\": 6}\n",
    "print(dictcontest(dtest1,dtest2))"
   ]
  },
  {
   "cell_type": "markdown",
   "metadata": {},
   "source": [
    "dictcontest() works by first considering all the intersecting keys(keys that both dictionaries have) and measuring their values. If the values don't match the error is incremented. Then it checks for non-intersecting keys and how many there are, increments the error. "
   ]
  },
  {
   "cell_type": "markdown",
   "metadata": {},
   "source": [
    "## Results: Graphs and tables(please DO NOT run these they take a while or will break if you are not on the right kernel)"
   ]
  },
  {
   "cell_type": "markdown",
   "metadata": {},
   "source": [
    "For the graphs I apologise, there was an issue trying to make ggplot work on python. It was a bug and conflict with its own dependancies, pandas. I've tried almost everything before deciding to do the 2 graphs in R instead.\n",
    "\n",
    "For the following graphs, only 2 parameters were changed, M was set to 25, and maxgen was set to 200."
   ]
  },
  {
   "cell_type": "markdown",
   "metadata": {},
   "source": [
    "### Replication of the paper's Table 1:"
   ]
  },
  {
   "cell_type": "code",
   "execution_count": 10,
   "metadata": {},
   "outputs": [
    {
     "name": "stdout",
     "output_type": "stream",
     "text": [
      " N   Mean Best Error       StDev        Sucesses(out of 20) R for .95 success\n",
      "---- --------------- ------------------ ------------------- -----------------\n",
      " 5.0             0.0                0.0                20.0               1.0\n",
      " 6.0            11.0  47.94788837894741                19.0              58.0\n",
      " 7.0           17.85  53.83518830653423                18.0              28.0\n",
      " 8.0            41.2  73.24042599548422                15.0              10.0\n",
      " 9.0           50.15 63.752862680823995                12.0               5.0\n",
      "10.0            67.4 62.547901643460435                 8.0               3.0\n",
      "11.0           130.1   80.4350048175544                 3.0               1.0\n"
     ]
    }
   ],
   "source": [
    "prblen = 5\n",
    "from astropy.table import Table\n",
    "print(evologger(prblen, range(5,12,1), 25, 100, 20))"
   ]
  },
  {
   "cell_type": "markdown",
   "metadata": {},
   "source": [
    "For this table as well as the following figures I did not include the Normalised Error values and graphs. As shown in the article normalising the errors only changed the scale while not affecting at all the shape of the curves. As such I find normalising the errors rather pointless."
   ]
  },
  {
   "cell_type": "code",
   "execution_count": null,
   "metadata": {},
   "outputs": [],
   "source": [
    "# In case you cannot run the code above or import Astropy or it's not displaying correctly,\n",
    "# here's the table\n",
    "\"\"\"\n",
    " N   Mean Best Error       StDev        Sucesses(out of 20) R for .95 success\n",
    "---- --------------- ------------------ ------------------- -----------------\n",
    " 5.0             0.0                0.0                20.0               1.0\n",
    " 6.0            11.0  47.94788837894741                19.0              58.0\n",
    " 7.0           17.85  53.83518830653423                18.0              28.0\n",
    " 8.0            41.2  73.24042599548422                15.0              10.0\n",
    " 9.0           50.15 63.752862680823995                12.0               5.0\n",
    "10.0            67.4 62.547901643460435                 8.0               3.0\n",
    "11.0           130.1   80.4350048175544                 3.0               1.0\n",
    "\"\"\""
   ]
  },
  {
   "cell_type": "markdown",
   "metadata": {},
   "source": [
    "### Replication of Figure 2 ( in R)"
   ]
  },
  {
   "cell_type": "code",
   "execution_count": 4,
   "metadata": {},
   "outputs": [
    {
     "data": {
      "image/png": "[encoded data removed]",
      "text/plain": [
       "plot without title"
      ]
     },
     "metadata": {
      "image/png": {
       "height": 420,
       "width": 420
      }
     },
     "output_type": "display_data"
    }
   ],
   "source": [
    "library(ggplot2)\n",
    "N <- c(5,6,7,8,9,10,11)\n",
    "MeanBestError <- c(0.0,11.0,17.85,41.2,50.15,67.4,130.1)\n",
    "STDeV<- c(0.0,47.94788837894741,53.83518830653423, 73.24042599548422, 63.752862680823995, 62.547901643460435,80.4350048175544)\n",
    "df = data.frame(N, MeanBestError, STDeV )\n",
    "j<-ggplot(df, aes(x= N, y = MeanBestError)) + \n",
    "  geom_errorbar(aes(ymin = MeanBestError-STDeV/2, ymax = MeanBestError+STDeV/2, width = 0.2)) +\n",
    "  geom_line(color = \"blue\", size = 1) +\n",
    "  geom_point(size = 2,) +\n",
    "  labs(y = \"Mean Best Error\") +\n",
    "  scale_x_continuous(\"Target Sequence Length\", labels = as.character(N), breaks = N)\n",
    "print(j)"
   ]
  },
  {
   "cell_type": "markdown",
   "metadata": {},
   "source": [
    "Similarly to the paper's results, the MBE goes up as target sequence length increase.\n",
    "However I noticed here that my measurement of error is different than that of the paper which makes me doubt if I'm coding the FP evaluation correctly.\n",
    "\n",
    "The large variance could be due to the fact that a smaller number of trials were run(20 instead of 100), the low M value(25) and due to the natrue of randomness."
   ]
  },
  {
   "cell_type": "markdown",
   "metadata": {},
   "source": [
    "### Replication of Figure 3 ( in R)"
   ]
  },
  {
   "cell_type": "markdown",
   "metadata": {},
   "source": [
    "For this graph I parsed the data using a modified version of my evolute function. For each of the 4 lengths I tested, 20 trials were run, at 200 maxgen, and M= 25. The errors are averaged for all generations. "
   ]
  },
  {
   "cell_type": "code",
   "execution_count": 3,
   "metadata": {},
   "outputs": [
    {
     "data": {
      "image/png": "[encoded data removed]",
      "text/plain": [
       "plot without title"
      ]
     },
     "metadata": {
      "image/png": {
       "height": 420,
       "width": 420
      }
     },
     "output_type": "display_data"
    }
   ],
   "source": [
    "library(ggplot2)\n",
    "N <- c(5,7,9,11)\n",
    "gen <- c(1:200)\n",
    "a5 = c(344.6, 337.2, 329.8, 322.4, 301.2, 283.7, 266.2, 248.7, 248.7, 231.2, 213.7, 196.2, 178.7, 157.5, 157.5, 122.5, 122.5, 105.0, 105.0, 105.0, 105.0, 105.0, 87.5, 87.5, 87.5, 87.5, 87.5, 87.5, 70.0, 70.0, 52.5, 35.0, 35.0, 35.0, 35.0, 35.0, 17.5, 17.5, 17.5, 17.5, 0.0, 0.0, 0.0, 0.0, 0.0, 0.0, 0.0, 0.0, 0.0, 0.0, 0.0, 0.0, 0.0, 0.0, 0.0, 0.0, 0.0, 0.0, 0.0, 0.0, 0.0, 0.0, 0.0, 0.0, 0.0, 0.0, 0.0, 0.0, 0.0, 0.0, 0.0, 0.0, 0.0, 0.0, 0.0, 0.0, 0.0, 0.0, 0.0, 0.0, 0.0, 0.0, 0.0, 0.0, 0.0, 0.0, 0.0, 0.0, 0.0, 0.0, 0.0, 0.0, 0.0, 0.0, 0.0, 0.0, 0.0, 0.0, 0.0, 0.0, 0.0, 0.0, 0.0, 0.0, 0.0, 0.0, 0.0, 0.0, 0.0, 0.0, 0.0, 0.0, 0.0, 0.0, 0.0, 0.0, 0.0, 0.0, 0.0, 0.0, 0.0, 0.0, 0.0, 0.0, 0.0, 0.0, 0.0, 0.0, 0.0, 0.0, 0.0, 0.0, 0.0, 0.0, 0.0, 0.0, 0.0, 0.0, 0.0, 0.0, 0.0, 0.0, 0.0, 0.0, 0.0, 0.0, 0.0, 0.0, 0.0, 0.0, 0.0, 0.0, 0.0, 0.0, 0.0, 0.0, 0.0, 0.0, 0.0, 0.0, 0.0, 0.0, 0.0, 0.0, 0.0, 0.0, 0.0, 0.0, 0.0, 0.0, 0.0, 0.0, 0.0, 0.0, 0.0, 0.0, 0.0, 0.0, 0.0, 0.0, 0.0, 0.0, 0.0, 0.0, 0.0, 0.0, 0.0, 0.0, 0.0, 0.0, 0.0, 0.0, 0.0, 0.0, 0.0, 0.0, 0.0, 0.0, 0.0, 0.0)\n",
    "a7 = c(480.6, 464.7, 444.1, 390.75, 345.4, 295.35, 282.2, 263.45, 233.2, 233.2, 224.6, 212.6, 210.4, 207.75, 206.7, 203.8, 192.2, 176.15, 164.2, 154.8, 154.8, 143.15, 143.15, 143.15, 143.15, 136.15, 131.7, 123.9, 100.45, 77.4, 77.4, 75.2, 75.2, 75.2, 74.4, 62.6, 62.6, 62.6, 62.6, 62.6, 43.8, 43.8, 43.8, 43.8, 43.8, 43.8, 43.8, 34.4, 34.4, 34.4, 34.4, 34.4, 34.4, 34.4, 34.4, 34.4, 34.4, 25.0, 25.0, 25.0, 15.6, 15.6, 15.6, 7.8, 7.8, 7.8, 7.8, 7.8, 7.8, 7.8, 0.0, 0.0, 0.0, 0.0, 0.0, 0.0, 0.0, 0.0, 0.0, 0.0, 0.0, 0.0, 0.0, 0.0, 0.0, 0.0, 0.0, 0.0, 0.0, 0.0, 0.0, 0.0, 0.0, 0.0, 0.0, 0.0, 0.0, 0.0, 0.0, 0.0, 0.0, 0.0, 0.0, 0.0, 0.0, 0.0, 0.0, 0.0, 0.0, 0.0, 0.0, 0.0, 0.0, 0.0, 0.0, 0.0, 0.0, 0.0, 0.0, 0.0, 0.0, 0.0, 0.0, 0.0, 0.0, 0.0, 0.0, 0.0, 0.0, 0.0, 0.0, 0.0, 0.0, 0.0, 0.0, 0.0, 0.0, 0.0, 0.0, 0.0, 0.0, 0.0, 0.0, 0.0, 0.0, 0.0, 0.0, 0.0, 0.0, 0.0, 0.0, 0.0, 0.0, 0.0, 0.0, 0.0, 0.0, 0.0, 0.0, 0.0, 0.0, 0.0, 0.0, 0.0, 0.0, 0.0, 0.0, 0.0, 0.0, 0.0, 0.0, 0.0, 0.0, 0.0, 0.0, 0.0, 0.0, 0.0, 0.0, 0.0, 0.0, 0.0, 0.0, 0.0, 0.0, 0.0, 0.0, 0.0, 0.0, 0.0, 0.0, 0.0, 0.0, 0.0, 0.0, 0.0, 0.0, 0.0, 0.0, 0.0)\n",
    "a9 = c(505.95, 476.05, 466.45, 420.7, 405.15, 377.0, 359.4, 358.55, 333.75, 324.65, 312.7, 286.95, 262.65, 255.95, 250.45, 227.05, 220.8, 220.8, 216.7, 206.75, 201.15, 199.25, 187.15, 184.25, 181.75, 180.4, 177.05, 177.05, 176.3, 174.8, 169.5, 167.1, 157.6, 152.5, 141.85, 135.35, 131.35, 131.35, 131.35, 125.45, 123.3, 121.15, 111.75, 111.75, 106.65, 98.55, 98.55, 98.55, 95.5, 95.5, 95.5, 90.3, 90.3, 90.3, 84.9, 84.9, 84.9, 84.9, 84.9, 84.9, 84.2, 84.2, 84.2, 84.2, 84.2, 84.2, 81.2, 81.2, 81.2, 81.2, 80.85, 80.85, 80.85, 80.85, 75.75, 75.75, 75.75, 73.75, 73.7, 65.6, 65.6, 65.6, 65.6, 65.6, 58.35, 58.35, 58.35, 58.35, 58.35, 58.35, 58.35, 53.25, 53.25, 46.0, 46.0, 46.0, 46.0, 46.0, 46.0, 46.0, 46.0, 46.0, 46.0, 46.0, 46.0, 46.0, 46.0, 46.0, 46.0, 46.0, 46.0, 46.0, 46.0, 46.0, 46.0, 40.9, 40.9, 40.9, 40.9, 40.9, 40.9, 40.9, 40.9, 40.9, 40.9, 38.75, 38.75, 38.75, 38.75, 38.75, 38.75, 38.75, 38.75, 38.75, 38.75, 38.75, 33.65, 33.65, 33.65, 33.65, 33.65, 33.65, 33.65, 33.65, 33.65, 25.5, 25.5, 25.5, 25.5, 25.5, 25.5, 25.5, 25.5, 25.5, 25.5, 25.5, 25.5, 25.5, 25.5, 25.5, 25.5, 25.5, 25.5, 25.5, 25.5, 25.5, 20.4, 20.4, 20.4, 20.4, 20.4, 20.4, 20.4, 20.4, 20.4, 20.4, 20.4, 20.4, 20.4, 15.3, 15.3, 15.3, 15.3, 15.3, 15.3, 15.3, 15.3, 15.3, 15.3, 15.3, 15.3, 15.3, 15.3, 15.3, 15.3, 15.3, 15.3, 15.3, 10.2, 10.2)\n",
    "a11 = c(489.55, 467.9, 451.35, 440.9, 421.55, 403.35, 384.0, 374.6, 361.45, 354.15, 336.2, 331.3, 303.15, 291.7, 280.2, 270.9, 263.4, 256.5, 254.9, 241.65, 238.35, 235.75, 226.75, 223.55, 220.9, 216.9, 213.65, 208.2, 200.7, 197.85, 197.2, 195.1, 195.1, 189.95, 184.9, 183.9, 181.35, 180.9, 180.05, 179.05, 172.05, 172.05, 166.65, 162.2, 162.2, 160.2, 158.15, 158.15, 156.35, 156.35, 145.25, 145.25, 139.35, 133.65, 133.65, 132.05, 132.05, 130.7, 130.7, 129.15, 128.6, 121.8, 121.8, 121.8, 121.8, 121.4, 121.4, 121.4, 121.4, 119.65, 119.65, 118.55, 118.55, 117.7, 117.7, 117.7, 112.6, 112.6, 112.6, 111.8, 109.05, 109.05, 108.6, 108.6, 104.7, 101.55, 101.55, 98.35, 96.65, 96.65, 96.5, 96.5, 96.5, 96.5, 96.5, 93.6, 93.6, 93.6, 92.15, 90.75, 90.75, 88.9, 88.9, 88.9, 88.9, 84.7, 84.7, 84.7, 84.7, 84.7, 84.7, 78.05, 78.05, 78.05, 78.05, 78.05, 78.05, 78.05, 78.05, 78.05, 78.05, 76.85, 76.85, 76.85, 76.85, 76.85, 76.85, 71.75, 71.75, 71.75, 71.75, 71.75, 71.75, 71.75, 70.9, 70.9, 70.9, 70.9, 70.9, 70.9, 70.9, 70.9, 70.9, 70.9, 70.9, 70.9, 70.9, 70.9, 70.9, 70.9, 70.9, 70.9, 70.9, 68.85, 68.85, 68.85, 68.85, 68.85, 68.85, 68.85, 68.85, 68.85, 68.85, 68.85, 68.85, 68.25, 68.25, 68.25, 68.25, 68.25, 68.25, 68.25, 68.25, 68.25, 68.25, 68.25, 64.65, 64.65, 64.65, 64.65, 64.65, 63.2, 63.2, 63.2, 63.2, 63.2, 63.2, 63.2, 63.2, 63.2, 63.2, 63.2, 63.2, 63.2, 63.2, 57.25, 57.25, 57.25, 57.25, 57.25)\n",
    "df = data.frame(N, gen, a5,a7,a9, a11 )\n",
    "j<-ggplot(df, aes(x= gen)) + \n",
    "  geom_line(aes(y = a5, color = \"N = 5\"), size = 1) +\n",
    "  geom_line(aes(y = a7, color = \"N = 7\"), size = 1)+\n",
    "  geom_line(aes(y = a9, color = \"N = 9\"), size = 1)+\n",
    "  geom_line(aes(y = a11, color = \"N = 11\"), size = 1)+\n",
    "  scale_colour_manual(\"\", values = c(\"N = 5\"=\"green\", \"N = 7\"=\"blue\", \"N = 9\" = \"orange\", \"N = 11\"=\"red\")) +\n",
    "  labs(x = \"Generation\", y = \"Mean Best Error\")\n",
    "             \n",
    "print(j)\n",
    "\n"
   ]
  },
  {
   "cell_type": "markdown",
   "metadata": {},
   "source": [
    "Again, very similar to the paper's results, sequences of higher length take longer to reach the best solution. Here however the generations before reaching the correct result is much higher has I've set M to be much, much lower. \n",
    "\n",
    "I've done some side testings and at least for sequences of length 10, with M = 100 and above. The generation where a perfect solution is found is usually between 10 and 40."
   ]
  },
  {
   "cell_type": "markdown",
   "metadata": {},
   "source": [
    "## Discussion (please do not run the code pieces here either)"
   ]
  },
  {
   "cell_type": "markdown",
   "metadata": {},
   "source": [
    "### Performance"
   ]
  },
  {
   "cell_type": "markdown",
   "metadata": {},
   "source": [
    "While with this algorithm is is rather difficult to estimate the runtime and space, as both of these performance metrics are heavily based on complete random. The algorithm does have a hard limit which is maxgen, however the M parameter also affects this, as with a smaller M reaching maxgen is a lot easier.\n",
    "The assumption I will make however is that the algorithm performs in linear time at best as each generation there're more functions to evaluate in the tournament phase(where each of the population member are pitched against 10 randoms). Increasing initial generation size will indeed increase how fast the population grows and how slow the algorithm gets as generations increment.\n",
    "\n",
    "Unfortunately I cannot run my implementation very well, for a 20 length sequence with M=200, prbsize = 5, on my machine it takes anywhere between 20 minutes and an hour to perfectly solve. Which I assume to be due to the nature of the randomness.\n",
    "\n",
    "However It could also be my wrong assumption about the \"absolute differences\" in FPs described in the paper. For my implementation I class key(subsequence) and value(binding strength) differences to be virtually the same. I have tried to penalise key differences harder than value by added 2 errors instead of 1 but this does not seem to make the algorithm faster.\n",
    "\n",
    "Other optimisation tries I've done by modifying the algorithm include culling the very old generation and keeping the entire population within a set number so that the population list doesn't explode in size and runtime doesn't climb exponentially. However, as I track the min error score of this implementation, it goes down extremely slow and even climb back up in later generations a lot more frequently. \n",
    "\n"
   ]
  },
  {
   "cell_type": "code",
   "execution_count": 7,
   "metadata": {},
   "outputs": [
    {
     "name": "stdout",
     "output_type": "stream",
     "text": [
      "tcaattgaag\n"
     ]
    },
    {
     "data": {
      "image/png": "[encoded data removed]",
      "text/plain": [
       "<Figure size 216x216 with 1 Axes>"
      ]
     },
     "metadata": {
      "needs_background": "light"
     },
     "output_type": "display_data"
    }
   ],
   "source": [
    "# sequence length\n",
    "seqlen = 10\n",
    "# probe size/length\n",
    "prblen = 5\n",
    "# threshold under which FP binding efficiency will be ignored/set to 0\n",
    "# set to the paper's default which is n/2\n",
    "threshold = prblen // 2\n",
    "\n",
    "refseq = randomstring(seqlen)\n",
    "print(refseq)\n",
    "FPref = generateFP(refseq, prblen)\n",
    "\n",
    "\n",
    "\n",
    "plotruntimes([lambda n:evolute(FPref,4, 10, n, 1000)],[\"evolute\"],range(10,250,50))\n"
   ]
  },
  {
   "cell_type": "markdown",
   "metadata": {},
   "source": [
    "In the paper they described using parameters such as seqlen between 10 and 40 M = 500. maxgen = 1000. However I found with my implementation that 500 is way too high for M. Here I tested the runtime for M at seqlen=10, prb=5. I assumed that it never reached maxgen as i set it to 1000(which is really high for seqlen=10 even for M=50), and the highest generation I've observed for len=10 is around 200. Although, any M value below 50 is rather unreliable for len=10.\n",
    "\n",
    "This did suprised me that it's linearly improvement as M is low. I initially did this test to try to find an optimal M between 50 and 200, as I found that reducing M can overall, improve performance in some if not most cases.\n"
   ]
  },
  {
   "cell_type": "code",
   "execution_count": null,
   "metadata": {},
   "outputs": [],
   "source": []
  }
 ],
 "metadata": {
  "kernelspec": {
   "display_name": "Python 3",
   "language": "python",
   "name": "python3"
  },
  "language_info": {
   "codemirror_mode": {
    "name": "ipython",
    "version": 3
   },
   "file_extension": ".py",
   "mimetype": "text/x-python",
   "name": "python",
   "nbconvert_exporter": "python",
   "pygments_lexer": "ipython3",
   "version": "3.8.5"
  }
 },
 "nbformat": 4,
 "nbformat_minor": 4
}
