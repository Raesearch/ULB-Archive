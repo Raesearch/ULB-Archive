{
 "cells": [
  {
   "cell_type": "markdown",
   "metadata": {},
   "source": [
    "# INFO-F-438 - Algorithms in computational biology - 2021\n",
    "\n",
    "## Assignment 1: The partial digest problem\n",
    "\n",
    "### Name: Hoang Hai Nam\n",
    "### M. No.: 443146\n",
    "Python vers. used and tested : 3.8\n",
    "\n",
    "Imported libraries: random and itertools, for graphs and tests, timeit and matplotlib"
   ]
  },
  {
   "cell_type": "markdown",
   "metadata": {},
   "source": [
    "## Pre-requisites\n",
    "The code below is provided by Prof. John Iacono, it provides imports as well as functions used to graphs runtime and discuss performance later in the file.\n",
    "\n",
    "For the validation part involving test functions, function test() and test2() are taken directly from the assignment 1 documentation, and any functions that begin with 'test' are also modified derivatives of the 2 aforementioned functions."
   ]
  },
  {
   "cell_type": "code",
   "execution_count": 1,
   "metadata": {},
   "outputs": [],
   "source": [
    "import timeit\n",
    "import matplotlib.pyplot as plt\n",
    "import random\n",
    "\n",
    "\n",
    "def plotruntime(f,r,trials=1,figsize=[3,3]):\n",
    "    Times=[timeit.timeit(lambda:f(n),number=trials)/trials for n in r]\n",
    "    fig, ax = plt.subplots(figsize=figsize)\n",
    "    ax.plot(r,Times)\n",
    "    ax.set_xlabel(\"Value of n\")\n",
    "    ax.set_ylabel(\"Runtime\")\n",
    "    \n",
    "def plotruntimes(functions,labels,r,trials=1,figsize=[3,3]):\n",
    "    fig, ax = plt.subplots(figsize=figsize)\n",
    "    for f,l in zip(functions,labels):\n",
    "        Times=[timeit.timeit(lambda:f(n),number=trials)/trials for n in r]\n",
    "        ax.plot(r,Times,label=l)\n",
    "    ax.set_xlabel(\"Value of n\")\n",
    "    ax.set_ylabel(\"Runtime\")\n",
    "    ax.set_title(\"Runtime plot: \"+str(trials)+\" trial\"+(\"s\" if trials>1 else \"\"))\n",
    "    ax.legend()\n"
   ]
  },
  {
   "cell_type": "markdown",
   "metadata": {},
   "source": [
    "# First task: Implementation of Steve Skiena's algorithm"
   ]
  },
  {
   "cell_type": "markdown",
   "metadata": {},
   "source": [
    "## Imports"
   ]
  },
  {
   "cell_type": "code",
   "execution_count": 2,
   "metadata": {},
   "outputs": [],
   "source": [
    "import random as rd"
   ]
  },
  {
   "cell_type": "markdown",
   "metadata": {},
   "source": [
    "## Functions"
   ]
  },
  {
   "cell_type": "code",
   "execution_count": 3,
   "metadata": {},
   "outputs": [],
   "source": [
    "def RandomCompleteDigest(maxvalue, digestsize):\n",
    "    \"\"\"Generates a list of random Complete Digest coordinates of size\n",
    "       'digestsize' between '0' and 'maxvalue' in sorted order       \"\"\"\n",
    "    res = [0, maxvalue]  # defining the poles of the complete digest\n",
    "    res += rd.sample(range(1, maxvalue), digestsize - 2)  # generation of unique random ints between\n",
    "    return sorted(res)  # but not including 0 and maxvalue\n",
    "\n",
    "\n",
    "def PartialDigest(CD):  # WILL BREAK IF INPUT ISN'T SORTED, ASSUME IT IS\n",
    "    \"\"\"Generates a list of partial digests from a list of complete digests\n",
    "        in other words, distances between each value and its bigger values\"\"\"\n",
    "    res = []\n",
    "    for smol in range(len(CD)):  # loops through all values of CD, smol and big being indexes of small and big value\n",
    "        big = smol + 1\n",
    "        while big < len(CD):  # loops through all bigger values than CD[smol]\n",
    "            res.append(CD[big] - CD[smol])\n",
    "            big += 1\n",
    "    return sorted(res)\n",
    "\n",
    "\n",
    "def delta(pos, plist):\n",
    "    \"\"\"returns a list of absolute distances between\n",
    "    a position and each positions in the list of positions\"\"\"\n",
    "    res = []\n",
    "    for elem in plist:  # loops through plist and get distance to pos\n",
    "        res.append(abs(elem - pos))\n",
    "    return res\n",
    "\n",
    "\n",
    "def delete(y, L):\n",
    "    \"\"\"removes y from list L\"\"\"\n",
    "    if y in L:\n",
    "        L.remove(y)\n",
    "    else:\n",
    "        print(\"y is not found in L\")  # is here mostly for troubleshooting bugs, not needed anymore,\n",
    "    return\n",
    "\n",
    "\n",
    "def subquery(qry, mst):\n",
    "    \"\"\"Checks to see if a query list is a\n",
    "    subset of a master list, returns a boolean\"\"\"\n",
    "    mstcp = list(mst)\n",
    "    if len(mst) > len(qry):  # ran into bugs when 2 lists were equal in size, possibly fixed??? but\n",
    "        # loops through elements in the query subset, if an element isnt in the list, returns\n",
    "        for elem in qry:  # have a size check here just in case, not sure if it's size check\n",
    "            if elem in mstcp:  # that fixed it or a typo fix with list copy operation\n",
    "                # deletes the element in the copy target lists to deal with duplicates in the subset\n",
    "                delete(elem, mstcp)\n",
    "            else:\n",
    "                return False\n",
    "    elif len(mst) == len(qry) and sorted(mst) != sorted(qry):  # remedy for bug mentioned above\n",
    "        return False\n",
    "    return True\n",
    "\n",
    "\n",
    "def CompleteDigests(L):\n",
    "    \"\"\"Takes in a partial digest as list L and returns a list of sorted\n",
    "    lists, containing all possible complete digests\"\"\"\n",
    "    # set width and resolution list to be global variable\n",
    "    global wid, res  # width must be specified as global variable, for res it's not very necessary since\n",
    "    res = []  # the only operations upon res is append, but defining it within a funciton\n",
    "    wid = max(L)  # is a bit more neat\n",
    "    delete(wid, L)\n",
    "    X = [0, wid]\n",
    "    Place(L, X)\n",
    "    return res\n",
    "\n",
    "\n",
    "def Place(L, X):\n",
    "    \"\"\"Recursive functions that tries to solve for position values given a list of \n",
    "    distancesL, the function returns when all distances have been filled and L is \n",
    "    empty, or if there're no solutions\"\"\"\n",
    "    # sucess state/base case\n",
    "    # L is empty and solution X is satisfied,\n",
    "    # returns X to be appended to res\n",
    "    if not L:\n",
    "        res.append(sorted(X))\n",
    "        return\n",
    "    # takes the maximum(far right) of distance list\n",
    "    y = max(L)\n",
    "    # calculates distances from y to X\n",
    "    dyplist = delta(y, X)\n",
    "    # checks if list of distances is subset of L\n",
    "    if subquery(dyplist, L):\n",
    "        # adds y to X\n",
    "        X.append(y)\n",
    "        # remove subset from L\n",
    "        for elem in dyplist:\n",
    "            delete(elem, L)\n",
    "        # recursive call\n",
    "        Place(L, X)\n",
    "        # restore original L and X lists, opposites operations as before\n",
    "        delete(y, X)\n",
    "        L.extend(dyplist)\n",
    "    wid_y = abs(wid - y)\n",
    "    dwhyplist = delta(wid_y, X)\n",
    "    # same operations as before but with the position being the opposite direction\n",
    "    if subquery(dwhyplist, L):\n",
    "        X.append(wid_y)\n",
    "        for elem in dwhyplist:\n",
    "            delete(elem, L)\n",
    "        Place(L, X)\n",
    "        delete(wid_y, X)\n",
    "        L.extend(dwhyplist)\n",
    "    #returns if no possibilities are found\n",
    "    return"
   ]
  },
  {
   "cell_type": "markdown",
   "metadata": {},
   "source": [
    "## Testing and Discussion"
   ]
  },
  {
   "cell_type": "markdown",
   "metadata": {},
   "source": [
    "### Functions"
   ]
  },
  {
   "cell_type": "code",
   "execution_count": 4,
   "metadata": {},
   "outputs": [],
   "source": [
    "def test(trials, maxvalue, digestsize):\n",
    "    \"\"\"Takes in number of trials, complete digest maxvalue and digestsize\n",
    "    Tests completedigests function, returns(and break) if test failed\"\"\"\n",
    "    for i in range(trials):\n",
    "        CD = RandomCompleteDigest(maxvalue, digestsize)\n",
    "        PD = PartialDigest(CD)\n",
    "        CDs = CompleteDigests(PD)\n",
    "        if not CD in CDs:\n",
    "            print(\"Test Failed\")\n",
    "            return\n",
    "    print(\"Test Passed\")"
   ]
  },
  {
   "cell_type": "code",
   "execution_count": 5,
   "metadata": {},
   "outputs": [],
   "source": [
    "def test1maxval(maxvalue):\n",
    "    for i in range(10):\n",
    "        CD = RandomCompleteDigest(maxvalue,20)\n",
    "        PD = PartialDigest(CD)\n",
    "        CDs = CompleteDigests(PD)\n",
    "        if not CD in CDs:\n",
    "            print(\"Test Failed\")\n",
    "            return\n",
    "    return"
   ]
  },
  {
   "cell_type": "code",
   "execution_count": 6,
   "metadata": {},
   "outputs": [],
   "source": [
    "def test1dsize(digestsize):\n",
    "    for i in range(10):\n",
    "        CD = RandomCompleteDigest(150,digestsize)\n",
    "        PD = PartialDigest(CD)\n",
    "        CDs = CompleteDigests(PD)\n",
    "        if not CD in CDs:\n",
    "            print(\"Test Failed\")\n",
    "            return\n",
    "    return"
   ]
  },
  {
   "cell_type": "markdown",
   "metadata": {},
   "source": [
    "### Validation"
   ]
  },
  {
   "cell_type": "code",
   "execution_count": 7,
   "metadata": {},
   "outputs": [
    {
     "name": "stdout",
     "output_type": "stream",
     "text": [
      "Test Passed\n"
     ]
    }
   ],
   "source": [
    "test(100, 1000, 50)"
   ]
  },
  {
   "cell_type": "markdown",
   "metadata": {},
   "source": [
    "### Runtime graphing with maxvalue = n (digestsize set to 20)"
   ]
  },
  {
   "cell_type": "code",
   "execution_count": 8,
   "metadata": {},
   "outputs": [
    {
     "data": {
      "image/png": "[encoded data removed]",
      "text/plain": [
       "<Figure size 216x216 with 1 Axes>"
      ]
     },
     "metadata": {
      "needs_background": "light"
     },
     "output_type": "display_data"
    }
   ],
   "source": [
    "plotruntime(test1maxval, range(20,200,10),10)"
   ]
  },
  {
   "cell_type": "markdown",
   "metadata": {},
   "source": [
    "### Runtime graphing with digestsize = n (maxvalue set to 150)"
   ]
  },
  {
   "cell_type": "code",
   "execution_count": 10,
   "metadata": {},
   "outputs": [
    {
     "data": {
      "image/png": "[encoded data removed]",
      "text/plain": [
       "<Figure size 216x216 with 1 Axes>"
      ]
     },
     "metadata": {
      "needs_background": "light"
     },
     "output_type": "display_data"
    }
   ],
   "source": [
    "plotruntime(test1dsize, range(2,40,2),6)"
   ]
  },
  {
   "cell_type": "markdown",
   "metadata": {},
   "source": [
    "### Discussions"
   ]
  },
  {
   "cell_type": "markdown",
   "metadata": {},
   "source": [
    "As presented in the graphs, the complexity scales up exponentially with digestsize but seem to be the opposite when it comes to maxvalue. This makes sense, as the bulk of the numbers of operations is with the length of the PD list, L. Interestingly as maxvalue increases, complexity and runtime decreases. Even stranger, at least with digestsize = 20, runtime peaks at maxvalue ~ 30.\n",
    "\n",
    "I could not speculate well as to what causes this, as theoretically the complexity should only scale with the size of the PartialDigest list, which is directly related to the digestsize by the relation len(CD)(len(CD)-1)/2 = len(PD).\n",
    "\n",
    "My only guess to an explaination is that with higher maxvalue, the further the points in the CD list are far apart and the more unique the PD list become(less duplicates). It is less likely that the recursive function runs into cases with 2 alternatives(left AND right) available at a given point that the function examines, as this can worsen performance.\n"
   ]
  },
  {
   "cell_type": "markdown",
   "metadata": {},
   "source": [
    "# Second task: Complete Digests from unique Partial Digest"
   ]
  },
  {
   "cell_type": "markdown",
   "metadata": {},
   "source": [
    "## Imports"
   ]
  },
  {
   "cell_type": "code",
   "execution_count": 34,
   "metadata": {},
   "outputs": [],
   "source": [
    "import itertools as it"
   ]
  },
  {
   "cell_type": "markdown",
   "metadata": {},
   "source": [
    "## Functions"
   ]
  },
  {
   "cell_type": "code",
   "execution_count": 12,
   "metadata": {},
   "outputs": [],
   "source": [
    "def RemoveMultiplicities(PD):\n",
    "    \"\"\"\"inputs: PD: list of intergersgiven a list of intergers,\n",
    "     remove all duplicates and returns a sorted list\"\"\"\n",
    "    return sorted(list(set(PD)))\n",
    "\n",
    "def PossibleCDs(maxvalue, minsize):\n",
    "    \"\"\"Takes in a maxvalue and minimum size and output all possible\n",
    "     sorted complete digests that are larger than specified minsize\"\"\"\n",
    "    # here maxvalue +2 because for a digest of maxvalue n, the maximum possible size will be n+1\\\n",
    "    res = []\n",
    "    poles = [0, maxvalue]\n",
    "    # loop, for each size of CD to max, generate a list of all unique possible combinations \n",
    "    for i in range(minsize, maxvalue + 2):  # here i is the size of the CD\n",
    "        # generates all possible CD combinations(between and not including 0 and maxvalue\n",
    "        # picking (size-2) out of pool of intergers between 0 and maxvalue\n",
    "        combs = it.combinations(range(1, maxvalue), i - 2)\n",
    "        for combination in combs:\n",
    "            res.append(sorted(list(combination) + poles))\n",
    "    return res\n",
    "\n",
    "\n",
    "def CDMinSize(minPD):\n",
    "    \"\"\"Assuming that the lowest possible PD size would be the result of\n",
    "    a lowest possible CD size, calculates the highest minimum CD size\"\"\"\n",
    "    # I couldn't figure out the maths behind to actually implement this improvement\n",
    "    # but i also assume this will raise the flat efficiency\n",
    "    pass\n",
    "\n",
    "def CompleteDigests2(PD):\n",
    "    \"\"\"Takes in a partial digest without multiplicities\n",
    "    as list PD and returns a list of sorted lists,\n",
    "    containing all possible complete digests\n",
    "    assuming true length of PD or CD is unknown,\n",
    "    tests all possible CDs lengths with max size being\n",
    "    the maximum element of PD\"\"\"\n",
    "    # takes the last indexed value of PD, assuming input is SORTED!!!\n",
    "    # could use max() here but unecessary if it's sorted\n",
    "    maxval = PD[-1]\n",
    "    minsiz = 3\n",
    "    qrs = PossibleCDs(maxval, minsiz)\n",
    "    reso = []\n",
    "    # loops through all CD combinations in comdi, adds compatible ones to the resolution\n",
    "    for comdi in qrs:\n",
    "        if RemoveMultiplicities(PartialDigest(comdi)) == PD:\n",
    "            reso.append(comdi)\n",
    "    return reso"
   ]
  },
  {
   "cell_type": "markdown",
   "metadata": {},
   "source": [
    "## Testing and discussions"
   ]
  },
  {
   "cell_type": "markdown",
   "metadata": {},
   "source": [
    "### Functions"
   ]
  },
  {
   "cell_type": "code",
   "execution_count": 13,
   "metadata": {},
   "outputs": [],
   "source": [
    "def test2(trials, maxvalue, digestsize):\n",
    "    for i in range(trials):\n",
    "        CD = RandomCompleteDigest(maxvalue, digestsize)  # should returns sorted\n",
    "        PD = PartialDigest(CD)  # sorted output\n",
    "        PDnoduplicates = RemoveMultiplicities(PD)  # sorted output\n",
    "        CDs = CompleteDigests2(PDnoduplicates)\n",
    "        if not CD in CDs:\n",
    "            print(\"Test 2 Failed\")\n",
    "            return\n",
    "    print(\"Test 2 Passed\")"
   ]
  },
  {
   "cell_type": "code",
   "execution_count": 14,
   "metadata": {},
   "outputs": [],
   "source": [
    "def test2maxval(maxvalue):\n",
    "    for i in range(4):\n",
    "        CD = RandomCompleteDigest(maxvalue, 8)  # should returns sorted\n",
    "        PD = PartialDigest(CD)  # sorted output\n",
    "        PDnoduplicates = RemoveMultiplicities(PD)  # sorted output\n",
    "        CDs = CompleteDigests2(PDnoduplicates)\n",
    "    return"
   ]
  },
  {
   "cell_type": "code",
   "execution_count": 15,
   "metadata": {},
   "outputs": [],
   "source": [
    "def test2dsize(digestsize):\n",
    "    for i in range(4):\n",
    "        CD = RandomCompleteDigest(12, digestsize)  # should returns sorted\n",
    "        PD = PartialDigest(CD)  # sorted output\n",
    "        PDnoduplicates = RemoveMultiplicities(PD)  # sorted output\n",
    "        CDs = CompleteDigests2(PDnoduplicates)\n",
    "    return"
   ]
  },
  {
   "cell_type": "markdown",
   "metadata": {},
   "source": [
    "For these 2 functions modified for graphing I remove the list check as the compolexity for that operation scales with the possible CD size and is a considerable bottleneck"
   ]
  },
  {
   "cell_type": "markdown",
   "metadata": {},
   "source": [
    "### Validation"
   ]
  },
  {
   "cell_type": "code",
   "execution_count": 16,
   "metadata": {},
   "outputs": [
    {
     "name": "stdout",
     "output_type": "stream",
     "text": [
      "Test 2 Passed\n"
     ]
    }
   ],
   "source": [
    "test2(4, 20, 8)"
   ]
  },
  {
   "cell_type": "markdown",
   "metadata": {},
   "source": [
    "### Runtime graphing with maxvalue = n (digestsize set to 8)"
   ]
  },
  {
   "cell_type": "code",
   "execution_count": 78,
   "metadata": {},
   "outputs": [
    {
     "data": {
      "image/png": "[encoded data removed]",
      "text/plain": [
       "<Figure size 216x216 with 1 Axes>"
      ]
     },
     "metadata": {
      "needs_background": "light"
     },
     "output_type": "display_data"
    }
   ],
   "source": [
    "plotruntime(test2maxval, range(8,20,2),3)"
   ]
  },
  {
   "cell_type": "markdown",
   "metadata": {},
   "source": [
    "### Runtime graphing with digestsize = n (maxvalue set to 12)"
   ]
  },
  {
   "cell_type": "code",
   "execution_count": 35,
   "metadata": {},
   "outputs": [
    {
     "data": {
      "image/png": "[encoded data removed]",
      "text/plain": [
       "<Figure size 216x216 with 1 Axes>"
      ]
     },
     "metadata": {
      "needs_background": "light"
     },
     "output_type": "display_data"
    }
   ],
   "source": [
    "plotruntime(test2dsize, range(4,12,2),2)"
   ]
  },
  {
   "cell_type": "markdown",
   "metadata": {},
   "source": [
    "Varies everytime you run it, but makes sense, as the original CD's size does not contribute to the main complexity"
   ]
  },
  {
   "cell_type": "markdown",
   "metadata": {},
   "source": [
    "## Discussion"
   ]
  },
  {
   "cell_type": "markdown",
   "metadata": {},
   "source": [
    "For CompleteDigests2, I took in 2 things as assumptions, that a CD list will always starts at position 0, and that the final distance of a PD list is the maximum value of a CD list, the second assumption is the result of the first assumption, as one of the distances in the CD will always be maxvalue - 0. Therefore The function uses PossibleCDs to generate all possible combinations of intergers between 0 and maxvalue. PossibleCDs uses the Combination function from itertools to choose 'maxvalue - 2'(compensating for 0 and maxvalue)number of elements from a set of intergers from 0 to max value. This list of possible CD combinations will each be ran through the PartialDigest(CD) function to convert to partial digests, and each time it'll be compared to the input, if the CD's PD matches, it is added to the resolution. This is in theory guarenteed to catch all possible CDs that can result in the PD.\n",
    "\n",
    "I toyed with the idea of being able to deduce a minimum size of the CD which will decrease the amount of CDs it needs to process by a bit, but in the end I could not implement it without risking missing CDs.\n",
    "\n",
    "The theoretical difference between CompleteDigest2 and CompleteDigest(1) is that while the first doesn't scale exponentially with maxvalue, CompleteDigest2 does, as the number of possible combinations for a given digestsize are:\n",
    "with 'maxvalue - 2 = n', 'digestsize - 2 = p':\n",
    "\n",
    "n!/(p!(n-p)!)\n",
    "\n",
    "And the function loops through all possible digestsize, from 3 to maxvalue+1\n",
    "so theoretically the list of all complete digests combinations has the size:\n",
    "\n",
    "sum(n!/(p!(n-p)!)) with p from 3 to n\n",
    "\n",
    "While technically digestsize isn't the main bottleneck of CompleteDigest2() unlike CompleteDigest1(), maxvalue scales up not just the complexity but also the digestsize. However the 2 aren't very comparable, as both methods don't resemble eachother in any way.\n",
    "\n",
    "As expected, this algorithm is extremely unefficient, as such it only practical for very small cases.\n",
    "\n",
    "In terms of O(n) estimations, it is around O(n!) and worse. There's no point assuming the worst case as the function is exhaustive in nature and will always performs at its worst. "
   ]
  },
  {
   "cell_type": "markdown",
   "metadata": {},
   "source": [
    "# Addendum: Demonstrations of each function"
   ]
  },
  {
   "cell_type": "markdown",
   "metadata": {},
   "source": [
    "## Task 1"
   ]
  },
  {
   "cell_type": "code",
   "execution_count": 18,
   "metadata": {},
   "outputs": [
    {
     "name": "stdout",
     "output_type": "stream",
     "text": [
      "[0, 19, 26, 55, 56, 68, 85, 100]\n"
     ]
    }
   ],
   "source": [
    "rcd = RandomCompleteDigest(100,8)\n",
    "print(rcd)"
   ]
  },
  {
   "cell_type": "code",
   "execution_count": 19,
   "metadata": {},
   "outputs": [
    {
     "name": "stdout",
     "output_type": "stream",
     "text": [
      "[1, 7, 12, 13, 15, 17, 19, 26, 29, 29, 30, 30, 32, 36, 37, 42, 44, 45, 49, 55, 56, 59, 66, 68, 74, 81, 85, 100]\n"
     ]
    }
   ],
   "source": [
    "pd = PartialDigest(rcd)\n",
    "print(pd)"
   ]
  },
  {
   "cell_type": "code",
   "execution_count": 20,
   "metadata": {},
   "outputs": [
    {
     "name": "stdout",
     "output_type": "stream",
     "text": [
      "[[0, 19, 26, 55, 56, 68, 85, 100], [0, 15, 32, 44, 45, 74, 81, 100]]\n",
      "True\n"
     ]
    }
   ],
   "source": [
    "guesscds = CompleteDigests(pd)\n",
    "print(guesscds)\n",
    "print(rcd in guesscds)"
   ]
  },
  {
   "cell_type": "code",
   "execution_count": 21,
   "metadata": {},
   "outputs": [
    {
     "name": "stdout",
     "output_type": "stream",
     "text": [
      "Test Passed\n"
     ]
    }
   ],
   "source": [
    "test(100, 1000, 50)"
   ]
  },
  {
   "cell_type": "markdown",
   "metadata": {},
   "source": [
    "## Task 2"
   ]
  },
  {
   "cell_type": "code",
   "execution_count": 22,
   "metadata": {},
   "outputs": [
    {
     "name": "stdout",
     "output_type": "stream",
     "text": [
      "[0, 4, 5, 13, 15, 18, 19, 20]\n"
     ]
    }
   ],
   "source": [
    "rcd2 = RandomCompleteDigest(20,8)\n",
    "print(rcd2)"
   ]
  },
  {
   "cell_type": "code",
   "execution_count": 23,
   "metadata": {},
   "outputs": [
    {
     "name": "stdout",
     "output_type": "stream",
     "text": [
      "[1, 1, 1, 2, 2, 3, 4, 4, 5, 5, 5, 6, 7, 8, 9, 10, 11, 13, 13, 14, 14, 15, 15, 15, 16, 18, 19, 20]\n"
     ]
    }
   ],
   "source": [
    "pd2 = PartialDigest(rcd2)\n",
    "print(pd2)"
   ]
  },
  {
   "cell_type": "code",
   "execution_count": 24,
   "metadata": {},
   "outputs": [
    {
     "name": "stdout",
     "output_type": "stream",
     "text": [
      "[1, 2, 3, 4, 5, 6, 7, 8, 9, 10, 11, 13, 14, 15, 16, 18, 19, 20]\n"
     ]
    }
   ],
   "source": [
    "pdu = RemoveMultiplicities(pd2)\n",
    "print(pdu)"
   ]
  },
  {
   "cell_type": "code",
   "execution_count": 25,
   "metadata": {},
   "outputs": [
    {
     "name": "stdout",
     "output_type": "stream",
     "text": [
      "[[0, 1, 4, 6, 11, 19, 20], [0, 1, 9, 14, 16, 19, 20], [0, 1, 2, 4, 5, 9, 15, 20], [0, 1, 2, 4, 7, 10, 15, 20], [0, 1, 2, 4, 7, 11, 15, 20], [0, 1, 2, 4, 9, 10, 15, 20], [0, 1, 2, 4, 9, 11, 15, 20], [0, 1, 2, 4, 10, 11, 15, 20], [0, 1, 2, 5, 7, 10, 16, 20], [0, 1, 2, 5, 7, 15, 16, 20], [0, 1, 2, 5, 9, 15, 16, 20], [0, 1, 2, 6, 7, 9, 16, 20], [0, 1, 2, 6, 9, 15, 16, 20], [0, 1, 2, 7, 9, 10, 16, 20], [0, 1, 2, 7, 10, 11, 16, 20], [0, 1, 4, 5, 6, 11, 19, 20], [0, 1, 4, 6, 9, 11, 19, 20], [0, 1, 4, 6, 10, 11, 19, 20], [0, 1, 4, 6, 11, 14, 19, 20], [0, 1, 4, 6, 11, 15, 19, 20], [0, 1, 4, 9, 11, 14, 19, 20], [0, 1, 5, 9, 14, 16, 19, 20], [0, 1, 6, 9, 11, 16, 19, 20], [0, 1, 6, 9, 14, 16, 19, 20], [0, 1, 9, 10, 14, 16, 19, 20], [0, 1, 9, 11, 14, 16, 19, 20], [0, 1, 9, 14, 15, 16, 19, 20], [0, 4, 5, 11, 14, 18, 19, 20], [0, 4, 5, 11, 15, 18, 19, 20], [0, 4, 5, 13, 15, 18, 19, 20], [0, 4, 9, 10, 13, 18, 19, 20], [0, 4, 10, 11, 13, 18, 19, 20], [0, 4, 10, 13, 15, 18, 19, 20], [0, 4, 11, 13, 14, 18, 19, 20], [0, 5, 9, 10, 16, 18, 19, 20], [0, 5, 9, 11, 16, 18, 19, 20], [0, 5, 9, 13, 16, 18, 19, 20], [0, 5, 10, 11, 16, 18, 19, 20], [0, 5, 10, 13, 16, 18, 19, 20], [0, 5, 11, 15, 16, 18, 19, 20], [0, 1, 2, 4, 5, 6, 7, 15, 20], [0, 1, 2, 4, 5, 6, 9, 15, 20], [0, 1, 2, 4, 5, 7, 9, 15, 20], [0, 1, 2, 4, 5, 7, 10, 15, 20], [0, 1, 2, 4, 5, 7, 11, 15, 20], [0, 1, 2, 4, 5, 9, 10, 15, 20], [0, 1, 2, 4, 5, 9, 11, 15, 20], [0, 1, 2, 4, 5, 10, 11, 15, 20], [0, 1, 2, 4, 6, 7, 10, 15, 20], [0, 1, 2, 4, 6, 7, 11, 15, 20], [0, 1, 2, 4, 6, 9, 10, 15, 20], [0, 1, 2, 4, 6, 9, 11, 15, 20], [0, 1, 2, 4, 6, 10, 11, 15, 20], [0, 1, 2, 4, 7, 9, 10, 15, 20], [0, 1, 2, 4, 7, 9, 11, 15, 20], [0, 1, 2, 4, 7, 10, 11, 15, 20], [0, 1, 2, 4, 9, 10, 11, 15, 20], [0, 1, 2, 5, 6, 7, 9, 16, 20], [0, 1, 2, 5, 6, 7, 10, 16, 20], [0, 1, 2, 5, 6, 7, 15, 16, 20], [0, 1, 2, 5, 6, 9, 15, 16, 20], [0, 1, 2, 5, 7, 9, 10, 16, 20], [0, 1, 2, 5, 7, 9, 11, 16, 20], [0, 1, 2, 5, 7, 9, 15, 16, 20], [0, 1, 2, 5, 7, 10, 11, 16, 20], [0, 1, 2, 5, 7, 10, 15, 16, 20], [0, 1, 2, 5, 7, 11, 15, 16, 20], [0, 1, 2, 5, 9, 10, 15, 16, 20], [0, 1, 2, 5, 9, 11, 15, 16, 20], [0, 1, 2, 6, 7, 9, 10, 16, 20], [0, 1, 2, 6, 7, 9, 11, 16, 20], [0, 1, 2, 6, 7, 9, 15, 16, 20], [0, 1, 2, 6, 7, 10, 11, 16, 20], [0, 1, 2, 6, 9, 10, 15, 16, 20], [0, 1, 2, 6, 9, 11, 15, 16, 20], [0, 1, 2, 7, 9, 10, 11, 16, 20], [0, 1, 2, 7, 9, 10, 15, 16, 20], [0, 1, 2, 7, 10, 11, 15, 16, 20], [0, 1, 4, 5, 6, 9, 11, 19, 20], [0, 1, 4, 5, 6, 10, 11, 19, 20], [0, 1, 4, 5, 6, 11, 14, 19, 20], [0, 1, 4, 5, 6, 11, 15, 19, 20], [0, 1, 4, 5, 9, 11, 14, 19, 20], [0, 1, 4, 6, 9, 10, 11, 19, 20], [0, 1, 4, 6, 9, 11, 14, 19, 20], [0, 1, 4, 6, 9, 11, 15, 19, 20], [0, 1, 4, 6, 10, 11, 14, 19, 20], [0, 1, 4, 6, 10, 11, 15, 19, 20], [0, 1, 4, 6, 11, 14, 15, 19, 20], [0, 1, 4, 9, 10, 11, 14, 19, 20], [0, 1, 4, 9, 11, 14, 15, 19, 20], [0, 1, 5, 6, 9, 11, 16, 19, 20], [0, 1, 5, 6, 9, 14, 16, 19, 20], [0, 1, 5, 9, 10, 14, 16, 19, 20], [0, 1, 5, 9, 11, 14, 16, 19, 20], [0, 1, 5, 9, 14, 15, 16, 19, 20], [0, 1, 6, 9, 10, 11, 16, 19, 20], [0, 1, 6, 9, 10, 14, 16, 19, 20], [0, 1, 6, 9, 11, 14, 16, 19, 20], [0, 1, 6, 9, 11, 15, 16, 19, 20], [0, 1, 6, 9, 14, 15, 16, 19, 20], [0, 1, 9, 10, 11, 14, 16, 19, 20], [0, 1, 9, 10, 14, 15, 16, 19, 20], [0, 1, 9, 11, 14, 15, 16, 19, 20], [0, 4, 5, 9, 10, 13, 18, 19, 20], [0, 4, 5, 9, 11, 14, 18, 19, 20], [0, 4, 5, 9, 11, 15, 18, 19, 20], [0, 4, 5, 9, 13, 15, 18, 19, 20], [0, 4, 5, 10, 11, 13, 18, 19, 20], [0, 4, 5, 10, 11, 14, 18, 19, 20], [0, 4, 5, 10, 11, 15, 18, 19, 20], [0, 4, 5, 10, 13, 15, 18, 19, 20], [0, 4, 5, 11, 13, 14, 18, 19, 20], [0, 4, 5, 11, 13, 15, 18, 19, 20], [0, 4, 5, 11, 14, 15, 18, 19, 20], [0, 4, 5, 13, 14, 15, 18, 19, 20], [0, 4, 9, 10, 11, 13, 18, 19, 20], [0, 4, 9, 10, 13, 14, 18, 19, 20], [0, 4, 9, 10, 13, 15, 18, 19, 20], [0, 4, 9, 11, 13, 14, 18, 19, 20], [0, 4, 9, 11, 13, 15, 18, 19, 20], [0, 4, 10, 11, 13, 14, 18, 19, 20], [0, 4, 10, 11, 13, 15, 18, 19, 20], [0, 4, 10, 13, 14, 15, 18, 19, 20], [0, 4, 11, 13, 14, 15, 18, 19, 20], [0, 5, 9, 10, 11, 16, 18, 19, 20], [0, 5, 9, 10, 13, 16, 18, 19, 20], [0, 5, 9, 10, 14, 16, 18, 19, 20], [0, 5, 9, 10, 15, 16, 18, 19, 20], [0, 5, 9, 11, 13, 16, 18, 19, 20], [0, 5, 9, 11, 14, 16, 18, 19, 20], [0, 5, 9, 11, 15, 16, 18, 19, 20], [0, 5, 9, 13, 14, 16, 18, 19, 20], [0, 5, 9, 13, 15, 16, 18, 19, 20], [0, 5, 10, 11, 13, 16, 18, 19, 20], [0, 5, 10, 11, 14, 16, 18, 19, 20], [0, 5, 10, 11, 15, 16, 18, 19, 20], [0, 5, 10, 13, 14, 16, 18, 19, 20], [0, 5, 10, 13, 15, 16, 18, 19, 20], [0, 5, 11, 13, 15, 16, 18, 19, 20], [0, 5, 11, 14, 15, 16, 18, 19, 20], [0, 5, 13, 14, 15, 16, 18, 19, 20], [0, 1, 2, 4, 5, 6, 7, 9, 10, 20], [0, 1, 2, 4, 5, 6, 7, 9, 11, 20], [0, 1, 2, 4, 5, 6, 7, 9, 15, 20], [0, 1, 2, 4, 5, 6, 7, 10, 11, 20], [0, 1, 2, 4, 5, 6, 7, 10, 15, 20], [0, 1, 2, 4, 5, 6, 7, 11, 15, 20], [0, 1, 2, 4, 5, 6, 9, 10, 15, 20], [0, 1, 2, 4, 5, 6, 9, 11, 15, 20], [0, 1, 2, 4, 5, 6, 10, 11, 15, 20], [0, 1, 2, 4, 5, 7, 9, 10, 15, 20], [0, 1, 2, 4, 5, 7, 9, 11, 15, 20], [0, 1, 2, 4, 5, 7, 10, 11, 15, 20], [0, 1, 2, 4, 5, 9, 10, 11, 15, 20], [0, 1, 2, 4, 6, 7, 9, 10, 15, 20], [0, 1, 2, 4, 6, 7, 9, 11, 15, 20], [0, 1, 2, 4, 6, 7, 10, 11, 15, 20], [0, 1, 2, 4, 6, 9, 10, 11, 15, 20], [0, 1, 2, 4, 7, 9, 10, 11, 15, 20], [0, 1, 2, 5, 6, 7, 9, 10, 16, 20], [0, 1, 2, 5, 6, 7, 9, 11, 16, 20], [0, 1, 2, 5, 6, 7, 9, 15, 16, 20], [0, 1, 2, 5, 6, 7, 10, 11, 16, 20], [0, 1, 2, 5, 6, 7, 10, 15, 16, 20], [0, 1, 2, 5, 6, 7, 11, 15, 16, 20], [0, 1, 2, 5, 6, 9, 10, 15, 16, 20], [0, 1, 2, 5, 6, 9, 11, 15, 16, 20], [0, 1, 2, 5, 7, 9, 10, 11, 16, 20], [0, 1, 2, 5, 7, 9, 10, 15, 16, 20], [0, 1, 2, 5, 7, 9, 11, 15, 16, 20], [0, 1, 2, 5, 7, 10, 11, 15, 16, 20], [0, 1, 2, 5, 9, 10, 11, 15, 16, 20], [0, 1, 2, 6, 7, 9, 10, 11, 16, 20], [0, 1, 2, 6, 7, 9, 10, 15, 16, 20], [0, 1, 2, 6, 7, 9, 11, 15, 16, 20], [0, 1, 2, 6, 7, 10, 11, 15, 16, 20], [0, 1, 2, 6, 9, 10, 11, 15, 16, 20], [0, 1, 2, 7, 9, 10, 11, 15, 16, 20], [0, 1, 4, 5, 6, 9, 10, 11, 19, 20], [0, 1, 4, 5, 6, 9, 11, 14, 19, 20], [0, 1, 4, 5, 6, 9, 11, 15, 19, 20], [0, 1, 4, 5, 6, 10, 11, 14, 19, 20], [0, 1, 4, 5, 6, 10, 11, 15, 19, 20], [0, 1, 4, 5, 6, 11, 14, 15, 19, 20], [0, 1, 4, 5, 9, 10, 11, 14, 19, 20], [0, 1, 4, 5, 9, 11, 14, 15, 19, 20], [0, 1, 4, 6, 9, 10, 11, 14, 19, 20], [0, 1, 4, 6, 9, 10, 11, 15, 19, 20], [0, 1, 4, 6, 9, 11, 14, 15, 19, 20], [0, 1, 4, 6, 10, 11, 14, 15, 19, 20], [0, 1, 4, 9, 10, 11, 14, 15, 19, 20], [0, 1, 5, 6, 9, 10, 11, 16, 19, 20], [0, 1, 5, 6, 9, 10, 14, 16, 19, 20], [0, 1, 5, 6, 9, 11, 14, 16, 19, 20], [0, 1, 5, 6, 9, 11, 15, 16, 19, 20], [0, 1, 5, 6, 9, 14, 15, 16, 19, 20], [0, 1, 5, 9, 10, 11, 14, 16, 19, 20], [0, 1, 5, 9, 10, 14, 15, 16, 19, 20], [0, 1, 5, 9, 11, 14, 15, 16, 19, 20], [0, 1, 6, 9, 10, 11, 14, 16, 19, 20], [0, 1, 6, 9, 10, 11, 15, 16, 19, 20], [0, 1, 6, 9, 10, 14, 15, 16, 19, 20], [0, 1, 6, 9, 11, 14, 15, 16, 19, 20], [0, 1, 9, 10, 11, 14, 15, 16, 19, 20], [0, 4, 5, 9, 10, 11, 13, 18, 19, 20], [0, 4, 5, 9, 10, 11, 14, 18, 19, 20], [0, 4, 5, 9, 10, 11, 15, 18, 19, 20], [0, 4, 5, 9, 10, 13, 14, 18, 19, 20], [0, 4, 5, 9, 10, 13, 15, 18, 19, 20], [0, 4, 5, 9, 11, 13, 14, 18, 19, 20], [0, 4, 5, 9, 11, 13, 15, 18, 19, 20], [0, 4, 5, 9, 11, 14, 15, 18, 19, 20], [0, 4, 5, 9, 13, 14, 15, 18, 19, 20], [0, 4, 5, 10, 11, 13, 14, 18, 19, 20], [0, 4, 5, 10, 11, 13, 15, 18, 19, 20], [0, 4, 5, 10, 11, 14, 15, 18, 19, 20], [0, 4, 5, 10, 13, 14, 15, 18, 19, 20], [0, 4, 5, 11, 13, 14, 15, 18, 19, 20], [0, 4, 9, 10, 11, 13, 14, 18, 19, 20], [0, 4, 9, 10, 11, 13, 15, 18, 19, 20], [0, 4, 9, 10, 13, 14, 15, 18, 19, 20], [0, 4, 9, 11, 13, 14, 15, 18, 19, 20], [0, 4, 10, 11, 13, 14, 15, 18, 19, 20], [0, 5, 9, 10, 11, 13, 16, 18, 19, 20], [0, 5, 9, 10, 11, 14, 16, 18, 19, 20], [0, 5, 9, 10, 11, 15, 16, 18, 19, 20], [0, 5, 9, 10, 13, 14, 16, 18, 19, 20], [0, 5, 9, 10, 13, 15, 16, 18, 19, 20], [0, 5, 9, 10, 14, 15, 16, 18, 19, 20], [0, 5, 9, 11, 13, 14, 16, 18, 19, 20], [0, 5, 9, 11, 13, 15, 16, 18, 19, 20], [0, 5, 9, 11, 14, 15, 16, 18, 19, 20], [0, 5, 9, 13, 14, 15, 16, 18, 19, 20], [0, 5, 10, 11, 13, 14, 16, 18, 19, 20], [0, 5, 10, 11, 13, 15, 16, 18, 19, 20], [0, 5, 10, 11, 14, 15, 16, 18, 19, 20], [0, 5, 10, 13, 14, 15, 16, 18, 19, 20], [0, 5, 11, 13, 14, 15, 16, 18, 19, 20], [0, 9, 10, 13, 14, 15, 16, 18, 19, 20], [0, 9, 11, 13, 14, 15, 16, 18, 19, 20], [0, 10, 11, 13, 14, 15, 16, 18, 19, 20], [0, 1, 2, 4, 5, 6, 7, 9, 10, 11, 20], [0, 1, 2, 4, 5, 6, 7, 9, 10, 15, 20], [0, 1, 2, 4, 5, 6, 7, 9, 11, 15, 20], [0, 1, 2, 4, 5, 6, 7, 10, 11, 15, 20], [0, 1, 2, 4, 5, 6, 9, 10, 11, 15, 20], [0, 1, 2, 4, 5, 7, 9, 10, 11, 15, 20], [0, 1, 2, 4, 6, 7, 9, 10, 11, 15, 20], [0, 1, 2, 5, 6, 7, 9, 10, 11, 16, 20], [0, 1, 2, 5, 6, 7, 9, 10, 15, 16, 20], [0, 1, 2, 5, 6, 7, 9, 11, 15, 16, 20], [0, 1, 2, 5, 6, 7, 10, 11, 15, 16, 20], [0, 1, 2, 5, 6, 9, 10, 11, 15, 16, 20], [0, 1, 2, 5, 7, 9, 10, 11, 15, 16, 20], [0, 1, 2, 6, 7, 9, 10, 11, 15, 16, 20], [0, 1, 4, 5, 6, 9, 10, 11, 14, 19, 20], [0, 1, 4, 5, 6, 9, 10, 11, 15, 19, 20], [0, 1, 4, 5, 6, 9, 11, 14, 15, 19, 20], [0, 1, 4, 5, 6, 10, 11, 14, 15, 19, 20], [0, 1, 4, 5, 9, 10, 11, 14, 15, 19, 20], [0, 1, 4, 6, 9, 10, 11, 14, 15, 19, 20], [0, 1, 5, 6, 9, 10, 11, 14, 16, 19, 20], [0, 1, 5, 6, 9, 10, 11, 15, 16, 19, 20], [0, 1, 5, 6, 9, 10, 14, 15, 16, 19, 20], [0, 1, 5, 6, 9, 11, 14, 15, 16, 19, 20], [0, 1, 5, 9, 10, 11, 14, 15, 16, 19, 20], [0, 1, 6, 9, 10, 11, 14, 15, 16, 19, 20], [0, 4, 5, 9, 10, 11, 13, 14, 18, 19, 20], [0, 4, 5, 9, 10, 11, 13, 15, 18, 19, 20], [0, 4, 5, 9, 10, 11, 14, 15, 18, 19, 20], [0, 4, 5, 9, 10, 13, 14, 15, 18, 19, 20], [0, 4, 5, 9, 11, 13, 14, 15, 18, 19, 20], [0, 4, 5, 10, 11, 13, 14, 15, 18, 19, 20], [0, 4, 9, 10, 11, 13, 14, 15, 18, 19, 20], [0, 5, 9, 10, 11, 13, 14, 16, 18, 19, 20], [0, 5, 9, 10, 11, 13, 15, 16, 18, 19, 20], [0, 5, 9, 10, 11, 14, 15, 16, 18, 19, 20], [0, 5, 9, 10, 13, 14, 15, 16, 18, 19, 20], [0, 5, 9, 11, 13, 14, 15, 16, 18, 19, 20], [0, 5, 10, 11, 13, 14, 15, 16, 18, 19, 20], [0, 9, 10, 11, 13, 14, 15, 16, 18, 19, 20], [0, 1, 2, 4, 5, 6, 7, 9, 10, 11, 15, 20], [0, 1, 2, 5, 6, 7, 9, 10, 11, 15, 16, 20], [0, 1, 4, 5, 6, 9, 10, 11, 14, 15, 19, 20], [0, 1, 5, 6, 9, 10, 11, 14, 15, 16, 19, 20], [0, 4, 5, 9, 10, 11, 13, 14, 15, 18, 19, 20], [0, 5, 9, 10, 11, 13, 14, 15, 16, 18, 19, 20]]\n",
      "True\n"
     ]
    }
   ],
   "source": [
    "cd2guesses = CompleteDigests2(pdu)\n",
    "print(cd2guesses)"
   ]
  },
  {
   "cell_type": "code",
   "execution_count": 27,
   "metadata": {},
   "outputs": [
    {
     "name": "stdout",
     "output_type": "stream",
     "text": [
      "True\n"
     ]
    }
   ],
   "source": [
    "print(rcd2 in cd2guesses)"
   ]
  },
  {
   "cell_type": "code",
   "execution_count": 26,
   "metadata": {},
   "outputs": [
    {
     "name": "stdout",
     "output_type": "stream",
     "text": [
      "Test 2 Passed\n"
     ]
    }
   ],
   "source": [
    "test2(4, 20, 8)"
   ]
  },
  {
   "cell_type": "code",
   "execution_count": null,
   "metadata": {},
   "outputs": [],
   "source": []
  }
 ],
 "metadata": {
  "kernelspec": {
   "display_name": "Python 3",
   "language": "python",
   "name": "python3"
  },
  "language_info": {
   "codemirror_mode": {
    "name": "ipython",
    "version": 3
   },
   "file_extension": ".py",
   "mimetype": "text/x-python",
   "name": "python",
   "nbconvert_exporter": "python",
   "pygments_lexer": "ipython3",
   "version": "3.8.5"
  }
 },
 "nbformat": 4,
 "nbformat_minor": 4
}
