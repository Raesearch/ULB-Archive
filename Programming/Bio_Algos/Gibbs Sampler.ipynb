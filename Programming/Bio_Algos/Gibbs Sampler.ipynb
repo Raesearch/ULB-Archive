{
 "cells": [
  {
   "cell_type": "markdown",
   "metadata": {},
   "source": [
    "# Gibbs sampling implementation - HOANG Hai Nam"
   ]
  },
  {
   "cell_type": "markdown",
   "metadata": {},
   "source": [
    "## Pre-requesites"
   ]
  },
  {
   "cell_type": "code",
   "execution_count": 1,
   "metadata": {},
   "outputs": [],
   "source": [
    "import random as rd\n",
    "import numpy as np\n",
    "\n",
    "NUC_TO_NUM = {'A': 0, 'C': 1, 'G': 2, 'T': 3}\n"
   ]
  },
  {
   "cell_type": "code",
   "execution_count": 15,
   "metadata": {},
   "outputs": [],
   "source": [
    "def hamming_distance(s1, s2):\n",
    "    \"\"\"\n",
    "    Number of differences between two sequences\n",
    "    :param s1: str\n",
    "    :param s2: str\n",
    "    :return: int, number of differences\n",
    "    \"\"\"\n",
    "    return sum([int(s1[i] != s2[i]) for i in range(len(s1))])"
   ]
  },
  {
   "cell_type": "markdown",
   "metadata": {},
   "source": [
    "The hamming_distance function calculates the differences between 2 sequences, in other words how many changes to one sequence needed to be identical with the other sequence."
   ]
  },
  {
   "cell_type": "code",
   "execution_count": 16,
   "metadata": {},
   "outputs": [],
   "source": [
    "def score_motif(motifs):\n",
    "    \"\"\"\n",
    "    Will build the most common kmer among all the motifs and then compute the Hamming Distance from this sequence\n",
    "    :param motifs: list of str, DNA motifs of the same size\n",
    "    :return: int, score of the collection of motifs\n",
    "    \"\"\"\n",
    "    score = 0\n",
    "    common_kmer = [{'A': 0, 'C': 0, 'T': 0, 'G': 0} for _ in range(len(motifs[0]))]\n",
    "    for motif in motifs:\n",
    "        for nuc in range(len(motif)):\n",
    "            common_kmer[nuc][motif[nuc]] += 1\n",
    "    common_kmer = \"\".join([sorted(nucleotide_dict.items(), key=lambda item: item[1], reverse=True)[0][0]\n",
    "                           for nucleotide_dict in\n",
    "                           common_kmer])  # take the most frequent nucleotide at each position and join\n",
    "\n",
    "    for motif in motifs:\n",
    "        score += hamming_distance(motif, common_kmer)\n",
    "    return score"
   ]
  },
  {
   "cell_type": "markdown",
   "metadata": {},
   "source": [
    "The score_motif function recieves a list of motifs, builds the most common kmer, and then computes the Hamming Distance between this common kmer and the motifs. The lower the score in the return, the better it is as the closer the motifs are together. The score is calculated as the sum of hamming distances from each motif to the common kmer/motif."
   ]
  },
  {
   "cell_type": "code",
   "execution_count": 17,
   "metadata": {},
   "outputs": [],
   "source": [
    "def build_profile(motifs):\n",
    "    \"\"\"\n",
    "    Build a profile motif based on a collection of motifs\n",
    "    :param motifs: list of str, DNA motifs of the same size\n",
    "    :return: matrix of floats of size 4 x size of a motif, probability of finding each nucleotide at each position of\n",
    "     of the motif\n",
    "    \"\"\"\n",
    "    profile = [[1.0 for _ in range(len(motifs[0]))] for _ in range(4)]  # pseudocount\n",
    "\n",
    "    # count the nucleotide at each position for each motif\n",
    "    for motif in motifs:\n",
    "        for i in range(len(motif)):\n",
    "            nucleotide = motif[i]\n",
    "            profile[NUC_TO_NUM[nucleotide]][i] += 1\n",
    "\n",
    "    for line in range(4):\n",
    "        for col in range(len(profile[0])):\n",
    "            profile[line][col] /= len(motifs)  # from count to frequency\n",
    "\n",
    "    return profile"
   ]
  },
  {
   "cell_type": "markdown",
   "metadata": {},
   "source": [
    "This function recieves a set of motifs and builds a probability profile in the form of a matrix, based on this profile we can calculate the probability of a certain sequence(or motif) of the motif length. The 4 rows represent the 4 different nucleotides. and the columns represent the positions of nucleotide in the kmer. This function loops from position to position of kmer length, counting how many of what nucleotides appear at each position, then the results are converted into probabilities by dividing with the length, all the probabilities of nucleotides at each position are then intergrated into a matrix."
   ]
  },
  {
   "cell_type": "code",
   "execution_count": 18,
   "metadata": {},
   "outputs": [],
   "source": [
    "def build_kmer_based_profile(sequence, profile, k):\n",
    "    \"\"\"\n",
    "    Produce the k-mer in a sequence with their probability based on a given profile\n",
    "    :param sequence: str, DNA sequence\n",
    "    :param profile: matrix of floats of size 4 x n, probability of finding each nucleotide at each position j, 0<=j<n\n",
    "    :param k: size of the k-mer desired (normally n, as same size as the profile)\n",
    "    :return: str, k-mer selected randomly according to the distribution of the probabilities the k-mers came\n",
    "    from the profile\n",
    "    \"\"\"\n",
    "    kmers = []\n",
    "    plist = []\n",
    "    i = 0\n",
    "    e = k\n",
    "    while e <= len(sequence):\n",
    "        kmers.append(sequence[i:e])\n",
    "        i += 1\n",
    "        e += 1\n",
    "\n",
    "    for x in range(len(kmers)): #loops from kmers to kmers\n",
    "        plist.append(1)\n",
    "        for z in range(len(kmers[x])): #loops from position to position\n",
    "            if kmers[x][z] == 'A':\n",
    "                plist[x] *= profile[0][z]\n",
    "            elif kmers[x][z] == 'C':\n",
    "                plist[x] *= profile[1][z]\n",
    "            elif kmers[x][z] == 'G':\n",
    "                plist[x] *= profile[2][z]\n",
    "            elif kmers[x][z] == 'T':\n",
    "                plist[x] *= profile[3][z]\n",
    "\n",
    "    minprob = np.min([i for i in plist if i != 0]) # minimal non-zero probability, just in case a zero arises\n",
    "    for i in range(len(plist)): # dividing entire list by lowest probabily to convert them to ratios\n",
    "        plist[i] /= minprob\n",
    "    sumrat = sum(plist)\n",
    "\n",
    "    for i in range(len(plist)): # dividing entirelist by its sum to convert them into probabilities\n",
    "        plist[i] /= sumrat\n",
    "\n",
    "    return np.random.choice(kmers, p=plist) # weighted random kmer is chosen\n"
   ]
  },
  {
   "cell_type": "markdown",
   "metadata": {},
   "source": [
    "This function takes a sequence and a probability profile, breaks the sequence into kmers of a given size(has to be the same length as the one associated with the profile matrix). For each kmer, a probability is calculated with the probability profile matrix, all the probabilities are then appended to a list, this list is then treated by dividing entire list by lowest value to obtain the probability ratio, then this list is divided again by the sum of all the ratios. Finally a list of probabilities of each kmer is obtained, using the numpy's random choice function, this probability list is used as weights to choose between the kmers. The higher the probability, the more likely a kmer is chosen. This is done to avoid falling into the greedy approach when only the most probable is chosen, local scores are prioritised, as such the final global score may not be optimal as substantially less routes are considered. Choosing a poor local score at one instance can open up other possible routes later that could lead to better global score, as such this random choice is made to be flexible, while still leading a to better scoring motif."
   ]
  },
  {
   "cell_type": "code",
   "execution_count": 19,
   "metadata": {},
   "outputs": [],
   "source": [
    "def gibbs_sampling(sequences, k, number_iterations):\n",
    "    \"\"\"\n",
    "    Find the best motifs in the sequences by starting with random starting positions for the k-mer in each sequences\n",
    "    and then iterating by excluding a motif among them, building a profile matrix based on the remaining\n",
    "    motifs and replacing the motif excluded by the most probable k-mer motif based on the profile. We keep as best\n",
    "    motifs the motifs which obtained the lowest score until now.\n",
    "    :param sequences: list of str, DNA sequences where we want to find the best k-mers\n",
    "    :param k: int, size of the motif desired\n",
    "    :param number_iterations: int, number of time we do the operation of excluding, building a profile and replacing\n",
    "    the motif excluded with the most probable k-mer of the sequence where the excluded motif came from based on the\n",
    "    built profile\n",
    "    :return: tuple(list of str, int), (best motifs obtained, score of the list of motifs)\n",
    "    \"\"\"\n",
    "    kmers = []\n",
    "    for s in range(len(sequences)):\n",
    "        i = 0\n",
    "        e = k\n",
    "        kmers.append([])\n",
    "        while e <= len(sequences[s]):\n",
    "            kmers[s].append(sequences[s][i:e])\n",
    "            i += 1\n",
    "            e += 1\n",
    "    motifs = []\n",
    "    for seq in kmers:\n",
    "        motifs.append(rd.choice(seq))\n",
    "    topmotifs = list(motifs)\n",
    "    topscore = score_motif(topmotifs)\n",
    "    for j in range(0, number_iterations - 1):\n",
    "        i = rd.randint(0, len(sequences) - 1)\n",
    "        del motifs[i]\n",
    "        pf = build_profile(motifs)\n",
    "        motifs.insert(i,build_kmer_based_profile(sequences[i], pf, k))\n",
    "        if score_motif(motifs) < topscore:\n",
    "            topmotifs = list(motifs)\n",
    "            topscore = score_motif(topmotifs)\n",
    "    return topmotifs, topscore"
   ]
  },
  {
   "cell_type": "markdown",
   "metadata": {},
   "source": [
    "Similar to the build_kmer_based_profile() function, first kmers are generated from the sequences, each sequence will then have a list of kmers associated to them. Then from each of these lists, a random kmer/motif is chosen. At the end of this step we'll have one kmer associated with each sequence. These will be our motif set, from this motif set, a motif is chosen at random to be excluded and replaced later, a profile matrix is then build from the remaining motifs. Using this profile matrix, a motif is chosen at random from the sequence that's associated with the removed motif. The excluded motif will then be replaced with a (likely) better motif. The final global score of the set of motifs are then calculated at the end, if the score is better with replacement, the motif set is replaced with the new one. Each iteration a new motif is then chosen to be potentially replaced. This is repeated for number_iterations of times. The function then returns the motif set with the best score, and its score, as a 2-tuple."
   ]
  },
  {
   "cell_type": "code",
   "execution_count": 29,
   "metadata": {},
   "outputs": [],
   "source": [
    "def main(sequences, k, number_iterations, restarts):\n",
    "    \"\"\"\n",
    "    Program where we will call a number of times the Gibbs sampler to reach the best motifs possibles\n",
    "    :param sequences: list of str, DNA sequences where we want to find the best k-mers\n",
    "    :param k: int, size of the motif desired\n",
    "    :param number_iterations: int, number of time we do the operation of excluding, building a profile and replacing\n",
    "    the motif excluded with the most probable k-mer of the sequence where the excluded motif came from based on the\n",
    "    built profile\n",
    "    :param restarts: int, number of times we repeat the Gibbs sampler operation\n",
    "    :return: list of str, best motifs obtained\n",
    "    \"\"\"\n",
    "    topmotifs = gibbs_sampling(sequences, k, number_iterations)[0]\n",
    "    for j in range(0, restarts-1):\n",
    "        motifs = gibbs_sampling(sequences, k, number_iterations)[0]\n",
    "        if score_motif(motifs) < score_motif(topmotifs):\n",
    "            topmotifs = list(motifs)\n",
    "    return topmotifs\n"
   ]
  },
  {
   "cell_type": "markdown",
   "metadata": {},
   "source": [
    "This function follow similar principles to the previous, in that it repeats the previous function multiple times and each time it'll check for score improvements. As the start of gibbs_sampling(), we choose a random motif/kmer from each sequences, the whole of gibbs_sampling() function needs to be repeated in order to consider most if not all possibilities. The final return will be the motifs that has the best score(lower is better). The Gibbs_sampling() function is repeated 'restarts' number of times."
   ]
  },
  {
   "cell_type": "markdown",
   "metadata": {},
   "source": [
    "## Inputs"
   ]
  },
  {
   "cell_type": "code",
   "execution_count": 28,
   "metadata": {},
   "outputs": [
    {
     "name": "stdout",
     "output_type": "stream",
     "text": [
      "['TCTCGGGG', 'CCAAGGTG', 'TACAGGCG', 'TTCAGGTG', 'TCCACGTG']\n",
      "Score: 9\n"
     ]
    }
   ],
   "source": [
    "SEQUENCES = [\n",
    "    \"CGCCCCTCTCGGGGGTGTTCAGTAAACGGCCA\",\n",
    "    \"GGGCGAGGTATGTGTAAGTGCCAAGGTGCCAG\",\n",
    "    \"TAGTACCGAGACCGAAAGAAGTATACAGGCGT\",\n",
    "    \"TAGATCAAGTTTCAGGTGCACGTCGGTGAACC\",\n",
    "    \"AATCCACCAGCTCCACGTGCAATGTTGGCCTA\"]\n",
    "K = 8\n",
    "NUMBER_ITERATIONS = 20\n",
    "RESTARTS = 300\n",
    "\n",
    "top_motif = main(SEQUENCES, K, NUMBER_ITERATIONS, RESTARTS)\n",
    "print(top_motif)\n",
    "print(\"Score:\", score_motif(top_motif))"
   ]
  },
  {
   "cell_type": "markdown",
   "metadata": {},
   "source": [
    "## Ideal output"
   ]
  },
  {
   "cell_type": "code",
   "execution_count": 22,
   "metadata": {},
   "outputs": [
    {
     "name": "stdout",
     "output_type": "stream",
     "text": [
      "['TCTCGGGG', 'CCAAGGTG', 'TACAGGCG', 'TTCAGGTG', 'TCCACGTG']\n"
     ]
    }
   ],
   "source": [
    "#the 'best' motifs im supposed to get after running above code\n",
    "print(['TCTCGGGG', 'CCAAGGTG', 'TACAGGCG', 'TTCAGGTG', 'TCCACGTG'])\n"
   ]
  }
 ],
 "metadata": {
  "kernelspec": {
   "display_name": "Python 3",
   "language": "python",
   "name": "python3"
  },
  "language_info": {
   "codemirror_mode": {
    "name": "ipython",
    "version": 3
   },
   "file_extension": ".py",
   "mimetype": "text/x-python",
   "name": "python",
   "nbconvert_exporter": "python",
   "pygments_lexer": "ipython3",
   "version": "3.8.5"
  }
 },
 "nbformat": 4,
 "nbformat_minor": 4
}
