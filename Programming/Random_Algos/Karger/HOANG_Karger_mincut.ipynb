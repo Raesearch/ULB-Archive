{
 "cells": [
  {
   "cell_type": "markdown",
   "metadata": {},
   "source": [
    "# INFO-F-413 - Data Structures and Algorithms - 2021\n",
    "\n",
    "## Assignment 1: Karger's Algorithm\n",
    "\n",
    "### Name: Hoang Hai Nam\n",
    "### M. No.: 443146\n",
    "\n",
    "Python version used and tested : 3.8.12\n",
    "\n",
    "Imported libraries: timeit, matplotlib, networkx, time, timeit, math\n"
   ]
  },
  {
   "cell_type": "markdown",
   "metadata": {},
   "source": [
    "# 1. Imports & Libraries"
   ]
  },
  {
   "cell_type": "code",
   "execution_count": 1,
   "metadata": {},
   "outputs": [],
   "source": [
    "import matplotlib.pyplot as plt\n",
    "import networkx as nx\n",
    "import random as rd\n",
    "import math as mt\n",
    "import timeit\n",
    "import time"
   ]
  },
  {
   "cell_type": "markdown",
   "metadata": {},
   "source": [
    "# 2. Functions"
   ]
  },
  {
   "cell_type": "code",
   "execution_count": 2,
   "metadata": {},
   "outputs": [],
   "source": [
    "def plotruntime(f,r,trials=1,figsize=[7,7]):\n",
    "    Times=[ti.timeit(lambda:f(n),number=trials)/trials for n in r]\n",
    "    fig, ax = plt.subplots(figsize=figsize)\n",
    "    ax.plot(r,Times)\n",
    "    ax.set_xlabel(\"Value of n\")\n",
    "    ax.set_ylabel(\"Runtime\")\n",
    "\n",
    "    \n",
    "def plotruntimes(functions,labels,r,trials=5,figsize=[7,7]):\n",
    "    fig, ax = plt.subplots(figsize=figsize)\n",
    "    for f,l in zip(functions,labels):\n",
    "        Times=[ti.timeit(lambda:f(n),number=trials)/trials for n in r]\n",
    "        ax.plot(r,Times,label=l)\n",
    "    ax.set_xlabel(\"Value of n\")\n",
    "    ax.set_ylabel(\"Runtime\")\n",
    "    ax.set_title(\"Runtime plot: \"+str(trials)+\" trial\"+(\"s\" if trials>1 else \"\"))\n",
    "    ax.legend()\n"
   ]
  },
  {
   "cell_type": "code",
   "execution_count": 3,
   "metadata": {},
   "outputs": [],
   "source": [
    "def plotruntime(f, r, trials=1, figsize=[7, 7]):\n",
    "    Times = [timeit.timeit(lambda: f(n), number=trials) / trials for n in r]\n",
    "    fig, ax = plt.subplots(figsize=figsize)\n",
    "    ax.plot(r, Times)\n",
    "    ax.set_xlabel(\"Value of n\")\n",
    "    ax.set_ylabel(\"Runtime\")\n",
    "\n",
    "\n",
    "def plotruntimes(functions, labels, r, trials=5, figsize=[7, 7]):\n",
    "    fig, ax = plt.subplots(figsize=figsize)\n",
    "    for f, l in zip(functions, labels):\n",
    "        Times = [timeit.timeit(lambda: f(n), number=trials) / trials for n in r]\n",
    "        ax.plot(r, Times, label=l)\n",
    "    ax.set_xlabel(\"Value of n\")\n",
    "    ax.set_ylabel(\"Runtime\")\n",
    "    ax.set_title(\"Runtime plot: \" + str(trials) + \" trial\" + (\"s\" if trials > 1 else \"\"))\n",
    "    ax.legend()\n",
    "\n",
    "\n",
    "def contracted_edge(G, edge, self_loops=True):\n",
    "    \"\"\"Modified contracted_edge() function taken from networkx's source code,\n",
    "    only value changed was the call to contracted_nodes()\n",
    "    Changes made so that copy=False as parameter in order to improve runtime,\n",
    "    no copy graph will be created, the graph G will be directly edited\n",
    "    The original function creates a new cut graph everytime a node is being contracted,\n",
    "    going through all the node and edge recreation eats runtime\n",
    "    \"\"\"\n",
    "    u, v = edge[:2]\n",
    "    if not G.has_edge(u, v):\n",
    "        raise ValueError(f\"Edge {edge} does not exist in graph G; cannot contract it\")\n",
    "    return nx.contracted_nodes(G, u, v, self_loops=self_loops, copy=False)\n",
    "\n",
    "\n",
    "def contract(g, minnode=2):\n",
    "    \"\"\"Algorithm to calculate a minimum cut of a graph\n",
    "    inputs: a multigraph g, how many nodes left before stopping, default minnode=2\n",
    "    returns: a contracted multigraph g with minnodes nodes and the number of edges left after the mincut\"\"\"\n",
    "    while g.number_of_nodes() > minnode:\n",
    "        g = nx.contracted_edge(g, rd.choice(list(g.edges)), self_loops=False)\n",
    "    return g\n",
    "\n",
    "\n",
    "def fastcut(g):\n",
    "    \"\"\"Recursive fastcut algorithm to calculate a mincut of a graph\n",
    "    Improves upon Karger's Algorithm in terms of accuracy (sucess probability)\n",
    "    Inputs: a multigraph g\n",
    "    Returns: a contracted multigraph g with 2 nodes\n",
    "    \"\"\"\n",
    "    n = g.number_of_nodes()\n",
    "    if n <= 6:\n",
    "        return contract(g)\n",
    "    else:\n",
    "        t = int(1 + n // mt.sqrt(2))\n",
    "        h1 = contract(g, minnode=t)\n",
    "        res1 = fastcut(h1)\n",
    "        h2 = contract(g, minnode=t)\n",
    "        res2 = fastcut(h2)\n",
    "        if res1.number_of_edges() <= res2.number_of_edges():\n",
    "            return res1\n",
    "        else:\n",
    "            return res2\n",
    "\n",
    "\n",
    "def satgraphgen(n):\n",
    "    \"\"\"generates a directed graph with n nodes and saturated number of edges\"\"\"\n",
    "    e = n * (n - 1)\n",
    "    return nx.MultiGraph(nx.erdos_renyi_graph(n, e))\n",
    "\n",
    "\n",
    "def fastcuthelper(g, trials=10):\n",
    "    \"\"\"Repeats fastcut on a graph for trials number of time\"\"\"\n",
    "    n = g.number_of_nodes()\n",
    "    res = n * (n - 1)\n",
    "    for i in range(trials):\n",
    "        m = fastcut(g)\n",
    "        if m.number_of_edges() < res:\n",
    "            res = m.number_of_edges()\n",
    "    return res\n",
    "\n",
    "\n",
    "def cutaccbencher(n, e=None, limit=5, Verbose=False):\n",
    "    \"\"\"Benchmark the accuracy of Fastcut and Contract given a time limit and nodesize\n",
    "    Inputs:\n",
    "    n: nodesize of graphs\n",
    "    e: edgesize of graphs\n",
    "    limit: time limit in seconds\n",
    "    Verbose: wether to print the results or not\n",
    "    Outputs:\n",
    "    Tuples of: Accuracy of the 2 functions calculated as sucesses\n",
    "    \"\"\"\n",
    "    # default edge size is a saturated one\n",
    "    if e is None:\n",
    "        g = satgraphgen(n)\n",
    "    else:\n",
    "        g = nx.MultiGraph(nx.erdos_renyi_graph(n, e))\n",
    "    # putting faith here that doing 10 trials of fastcut will get to the right answer\n",
    "    sol = fastcuthelper(g)  # finding the \"right\" answer\n",
    "    c = 0\n",
    "    f = 0\n",
    "    ctrials = 0\n",
    "    ftrials = 0\n",
    "    start = time.time()\n",
    "    while time.time() - start < limit:\n",
    "        m = fastcut(g)\n",
    "        if m.number_of_edges() <= sol:\n",
    "            f += 1\n",
    "        ftrials += 1\n",
    "    start = time.time()\n",
    "    while time.time() - start < limit:\n",
    "        m = contract(g)\n",
    "        if m.number_of_edges() <= sol:\n",
    "            c += 1\n",
    "        ctrials += 1\n",
    "    if Verbose is True:\n",
    "        print(\"Fastcut succeeded\", f, \"out of\", ftrials, \"trials, a sucess rate of\", f * 100 // ftrials, \"%\",)\n",
    "        print(\"Contract succeeded\", c, \"out of\", ctrials, \"trials, a sucess rate of\", c * 100 // ctrials, \"%\",)\n",
    "    return f / ftrials, c / ctrials, ftrials, ctrials\n",
    "\n",
    "\n",
    "def plotcutprobs(figsize=[7, 7], r=range(3, 15), limit=10):\n",
    "    \"\"\"Plots the accuracy of the 2 algorithms\"\"\"\n",
    "    fig, ax = plt.subplots(figsize=figsize)\n",
    "    frates = []\n",
    "    crates = []\n",
    "    for n in r:\n",
    "        rate = cutaccbencher(n, e=rd.randint(n, n * (n - 1)), limit=limit)\n",
    "        frates.append(rate[0])\n",
    "        crates.append(rate[1])\n",
    "    ax.plot(r, frates, label=\"FastCut\")\n",
    "    ax.plot(r, crates, label=\"Contract\")\n",
    "    ax.set_xlabel(\"Value of n\")\n",
    "    ax.set_ylabel(\"Sucess rate\")\n",
    "    ax.set_title(\"Sucess rates of Fastcut and Contract algorithms\")\n",
    "    ax.legend()\n",
    "\n",
    "\n",
    "def plotcuttrials(figsize=[7, 7], r=range(3, 15), limit=10):\n",
    "    \"\"\"Plots the number of trials made within the time limit\"\"\"\n",
    "    fig, ax = plt.subplots(figsize=figsize)\n",
    "    ftrials = []\n",
    "    ctrials = []\n",
    "    for n in r:\n",
    "        rate = cutaccbencher(n, e=rd.randint(n, n * (n - 1)), limit=limit)\n",
    "        ftrials.append(rate[2])\n",
    "        ctrials.append(rate[3])\n",
    "    ax.plot(r, ftrials, label=\"FastCut\")\n",
    "    ax.plot(r, ctrials, label=\"Contract\")\n",
    "    ax.set_xlabel(\"Value of n\")\n",
    "    ax.set_ylabel(\"Trials\")\n",
    "    ax.set_title(\"Trials done by Fastcut and Contract algorithms\")\n",
    "    ax.legend()\n",
    "\n"
   ]
  },
  {
   "cell_type": "markdown",
   "metadata": {},
   "source": [
    "# 3. Implementation"
   ]
  },
  {
   "cell_type": "markdown",
   "metadata": {},
   "source": [
    "In terms of the Contract and Fastcut algorithms, my implementation was as close as possible to the described pseudocode. Each in its basic form are coded as functions contract() and fastcut(). For graph generation and operations, counting nodes, edges and merging them, I used functions found within the networkx package. I also only slightly modified one function within networkx to improve runtime on merging executions.\n",
    "\n",
    "As for benchmarking the algorithms, the number of nodes are linear, and the number of edges are either saturated (calculated as $n*(n-1)$) or randomised (between $n$ and $n*(n-1)$).\n",
    "\n",
    "fastcuthelper() is simply a function that reruns the fastcut algorithm for some amount of times, or \"trials\".\n",
    "\n",
    "cutaccbencher() is a function that benchmarks the accuracy and to an extent, runtime of Fastcut and Contract, for a given time budget, both algorithms are run as many times as possible and the accuracy/success probability is calculated as success/runs, it returns the accuracy and the number of trials ran by each algorithm. By default each algorithm is allowed to be repeated as many times as possible for 10s, the later functions are used to logging cutaccbencher() at different, incremental node sizes.\n",
    "\n",
    "The two statistics, accuracy and trials are collected and plotted by the last 2 functions: plotcutprobs() and plotcuttrials()."
   ]
  },
  {
   "cell_type": "markdown",
   "metadata": {},
   "source": [
    "# 4. Results & Findings"
   ]
  },
  {
   "cell_type": "code",
   "execution_count": 8,
   "metadata": {},
   "outputs": [
    {
     "name": "stdout",
     "output_type": "stream",
     "text": [
      "Fastcut succeeded 51 out of 51 trials, a sucess rate of 100 %\n",
      "Contract succeeded 273 out of 324 trials, a sucess rate of 84 %\n"
     ]
    },
    {
     "data": {
      "text/plain": [
       "(1.0, 0.8425925925925926, 51, 324)"
      ]
     },
     "execution_count": 8,
     "metadata": {},
     "output_type": "execute_result"
    }
   ],
   "source": [
    "cutaccbencher(20, Verbose=True)"
   ]
  },
  {
   "cell_type": "markdown",
   "metadata": {},
   "source": [
    "Preliminarily, we can observe that with the same amount of time, Fastcut can repeat much fewer times than Contract, however it is much more accurate."
   ]
  },
  {
   "cell_type": "code",
   "execution_count": 4,
   "metadata": {},
   "outputs": [
    {
     "data": {
      "image/png": "[encoded data removed]",
      "text/plain": [
       "<Figure size 504x504 with 1 Axes>"
      ]
     },
     "metadata": {
      "needs_background": "light"
     },
     "output_type": "display_data"
    }
   ],
   "source": [
    "plotcutprobs(figsize=[7, 7], r=range(3, 50), limit=10)\n",
    "# this call takes 470s to complete as 10*(50-3) is the total time needed within the timelimit"
   ]
  },
  {
   "cell_type": "markdown",
   "metadata": {},
   "source": [
    "Here, both algorithms are run at different graph node amount, we can observe that Fastcut's accuracy holds 100% accuracy for most of the different sizes. Both algorithms perform the same at n<=6 which validates the functions, as for Fastcut for n<=6, the process is the exact same as Contract. However for both algorithms, we can observe that accuracy dips at around n<=10, and for Contract, slowly rises around n~50. This seems unintuitive, as theoretically, the success probabilities, $\\Omega(\\frac{2}{n(n-1)})$ for Contract, and $\\Omega(\\frac{1}{logn})$ for Fastcut, suggest that accuracy falls off as $n \\rightarrow \\infty$. This is possibly due to the fact that with small values of n, while the graph might still technically be dominated by non-mincut edges, it is less so than with larger values of n, thus the probability of selecting a mincut edge to contract(bad) is quite high for small values of n. Otherwise, as expected, the increased over success probability fits the theory quite well as Fastcut is much more accurate than brute force Contract."
   ]
  },
  {
   "cell_type": "code",
   "execution_count": 10,
   "metadata": {},
   "outputs": [
    {
     "data": {
      "image/png": "[encoded data removed]",
      "text/plain": [
       "<Figure size 504x504 with 1 Axes>"
      ]
     },
     "metadata": {
      "needs_background": "light"
     },
     "output_type": "display_data"
    }
   ],
   "source": [
    "plotcuttrials(figsize=[7, 7], r=range(10, 50), limit=10)\n",
    "# this call takes 400s to complete as 10*(50-10) is the total time needed within the timelimit"
   ]
  },
  {
   "cell_type": "markdown",
   "metadata": {},
   "source": [
    "Here we can visualise the difference in runtime by observing the number of times each algorithm can be repeated within a 10-second interval, at different values of n. As expected, Fastcut with a theoretical runtime of $O(n^2logn)$ is worse than Contract in terms of runtime, which is of $O(n^2)$."
   ]
  },
  {
   "cell_type": "markdown",
   "metadata": {},
   "source": [
    "# 6. Discussions"
   ]
  },
  {
   "cell_type": "markdown",
   "metadata": {},
   "source": [
    "## Theorem 1"
   ]
  },
  {
   "cell_type": "markdown",
   "metadata": {},
   "source": [
    "## The pseudo-code for the fastcut algorithm is as follows:\n",
    "\n",
    "### FastCut(G):\n",
    "    n = number of vertices of G\n",
    "    if n <= 6:\n",
    "        return: Contract(G)\n",
    "    else:\n",
    "        t = 1 + n/sqrt(2)\n",
    "        H1 = Contract(G,t)\n",
    "        H2 = Contract(G,t)\n",
    "        return: minimum_edges(Fastcut(H1), Fastcut(H2))\n",
    "        \n",
    "\n"
   ]
  },
  {
   "cell_type": "markdown",
   "metadata": {},
   "source": [
    "Each recursion step splits 2 independent contractions of $G$ to $t$ vertices, and then 2 more recursions on the resulting graphs. \n",
    "\n",
    "$ T(n) = 2 * T_{Contract} + 2 * T_{Recursion} $\n",
    "\n",
    "As the Contract algorithm's runtime is O(n^2), and t is defined as $1 + \\frac{n}{ \\sqrt{2}}$ we have the recurrence below:\n",
    "\n",
    "$ T(n) = 2n^2 + 2T(1 + \\frac{n}{ \\sqrt{2}}) $\n",
    "\n",
    "We can solve this recurrence using the **Master theorem**, that has the generic form as follows:\n",
    "\n",
    "$T(n) = a T(\\frac{n}{b}) + f(n)$\n",
    "\n",
    "We can see that $a = 2$, $b = \\sqrt{2}$, $f(n) = 2n^2$\n",
    "\n",
    "Suspecting that this is case 2 and that $f(n)$ takes the form of $f(n) = O(n^c*log^kn)$ with  $c = 2$ and $k = 0$\n",
    "\n",
    "We can verify if we satisfy the case 2 condition, in that the work to split the problem is equivalent to the subproblems, in other words: $log_{b}a$ $<=>$ $c$ ?\n",
    "\n",
    "We have $log_{b}a$ = $log_{ \\sqrt{2}}2 = 2$, and $c = 2$. It does indeed satisfies case 2 conditions!\n",
    "\n",
    "$T(n)$ can then be written as follows: $T(n) = O(n^{log_{b}a}log^{k+1}n) = O(n^{log_{\\sqrt{2}}2}log^{0+1}n) = O(n^2logn)$ \n",
    "\n",
    "We've succeeded in proving that the runtime of Fastcut can be written as: $O(n^2logn)$ "
   ]
  },
  {
   "cell_type": "markdown",
   "metadata": {},
   "source": [
    "## Theorem 2"
   ]
  },
  {
   "cell_type": "markdown",
   "metadata": {},
   "source": [
    "While it wasn't clear that FastCut's success probabilty is $\\Omega(\\frac{1}{logn})$, as I previously expected we would see a fall-off of accuracy before running into real-world runtime bottleneck, we can still say with confidence that Fastcut's success probability is much better than that of simple Contract."
   ]
  }
 ],
 "metadata": {
  "kernelspec": {
   "display_name": "Python 3 (ipykernel)",
   "language": "python",
   "name": "python3"
  },
  "language_info": {
   "codemirror_mode": {
    "name": "ipython",
    "version": 3
   },
   "file_extension": ".py",
   "mimetype": "text/x-python",
   "name": "python",
   "nbconvert_exporter": "python",
   "pygments_lexer": "ipython3",
   "version": "3.8.15"
  }
 },
 "nbformat": 4,
 "nbformat_minor": 4
}
